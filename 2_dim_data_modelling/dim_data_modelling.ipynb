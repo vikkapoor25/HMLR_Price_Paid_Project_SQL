{
 "cells": [
  {
   "cell_type": "markdown",
   "metadata": {},
   "source": [
    "# HMLR Price Paid Project (SQL)\n",
    "\n",
    "## Methodology\n",
    "\n",
    "In this file, we will merge the price paid txt files for each year into one large dataset, then proceed to clean and structure the data into FACT and DIM tables. \n",
    "\n",
    "This must be done in order for the data to be loaded into the SQL database storage in an optimised state, following a star schema design to support querying and analysis.\n",
    "\n",
    "## Import Libraries\n",
    "\n",
    "Before beginning anything, we must ensure we have the correct libraries and modules imported."
   ]
  },
  {
   "cell_type": "code",
   "execution_count": 179,
   "metadata": {},
   "outputs": [],
   "source": [
    "# Importing Libraries\n",
    "import pandas as pd\n",
    "import matplotlib.pyplot as plt\n",
    "from matplotlib.ticker import PercentFormatter\n",
    "import seaborn as sns\n",
    "from datasets import load_dataset\n",
    "import glob"
   ]
  },
  {
   "cell_type": "markdown",
   "metadata": {},
   "source": [
    "## Load and Merge .txt Files (Price Paid Data from 2018 to 2024)"
   ]
  },
  {
   "cell_type": "code",
   "execution_count": 180,
   "metadata": {},
   "outputs": [],
   "source": [
    "# Find all .txt files in a folder\n",
    "file_list = glob.glob(r\"C:\\Users\\Vikram Kapoor\\OneDrive\\CURRENT LAPTOP\\Independent Study\\Coding\\SQL\\HMLR_Price_Paid_Project_SQL\\1. origin_txt_files/*.txt\")\n",
    "\n",
    "# Reads all .txt files and concatenates them into a single Pandas dataframe\n",
    "df_list = [pd.read_csv(file, delimiter =',') for file in file_list]\n",
    "combined_df = pd.concat(df_list, ignore_index = True)"
   ]
  },
  {
   "cell_type": "markdown",
   "metadata": {},
   "source": [
    "## Data Cleaning\n",
    "\n",
    "### Step 1: Understanding the Dataset\n",
    "\n",
    "This must be done to get an overall understanding of the dataset e.g.missing values, duplicates, anomalies, how many columns there are, what the columns are called and so on."
   ]
  },
  {
   "cell_type": "code",
   "execution_count": 181,
   "metadata": {},
   "outputs": [
    {
     "data": {
      "text/html": [
       "<div>\n",
       "<style scoped>\n",
       "    .dataframe tbody tr th:only-of-type {\n",
       "        vertical-align: middle;\n",
       "    }\n",
       "\n",
       "    .dataframe tbody tr th {\n",
       "        vertical-align: top;\n",
       "    }\n",
       "\n",
       "    .dataframe thead th {\n",
       "        text-align: right;\n",
       "    }\n",
       "</style>\n",
       "<table border=\"1\" class=\"dataframe\">\n",
       "  <thead>\n",
       "    <tr style=\"text-align: right;\">\n",
       "      <th></th>\n",
       "      <th>transaction_unique_identifier</th>\n",
       "      <th>price</th>\n",
       "      <th>date_of_transfer</th>\n",
       "      <th>postcode</th>\n",
       "      <th>property_type</th>\n",
       "      <th>old_or_new</th>\n",
       "      <th>duration</th>\n",
       "      <th>paon</th>\n",
       "      <th>saon</th>\n",
       "      <th>street</th>\n",
       "      <th>locality</th>\n",
       "      <th>town_city</th>\n",
       "      <th>distrct</th>\n",
       "      <th>county</th>\n",
       "      <th>pdd_category_type</th>\n",
       "      <th>record_status</th>\n",
       "    </tr>\n",
       "  </thead>\n",
       "  <tbody>\n",
       "    <tr>\n",
       "      <th>0</th>\n",
       "      <td>{726BF13A-993E-0A46-E053-6C04A8C01D0D}</td>\n",
       "      <td>75000</td>\n",
       "      <td>2018-06-20 00:00</td>\n",
       "      <td>DL13 4BA</td>\n",
       "      <td>T</td>\n",
       "      <td>N</td>\n",
       "      <td>F</td>\n",
       "      <td>21</td>\n",
       "      <td>NaN</td>\n",
       "      <td>HIGHFIELDS</td>\n",
       "      <td>TOW LAW</td>\n",
       "      <td>BISHOP AUCKLAND</td>\n",
       "      <td>COUNTY DURHAM</td>\n",
       "      <td>COUNTY DURHAM</td>\n",
       "      <td>A</td>\n",
       "      <td>A</td>\n",
       "    </tr>\n",
       "    <tr>\n",
       "      <th>1</th>\n",
       "      <td>{726BF13A-993F-0A46-E053-6C04A8C01D0D}</td>\n",
       "      <td>115000</td>\n",
       "      <td>2018-07-13 00:00</td>\n",
       "      <td>DL17 9LB</td>\n",
       "      <td>S</td>\n",
       "      <td>N</td>\n",
       "      <td>F</td>\n",
       "      <td>4</td>\n",
       "      <td>NaN</td>\n",
       "      <td>THE LANE</td>\n",
       "      <td>WEST CORNFORTH</td>\n",
       "      <td>FERRYHILL</td>\n",
       "      <td>COUNTY DURHAM</td>\n",
       "      <td>COUNTY DURHAM</td>\n",
       "      <td>A</td>\n",
       "      <td>A</td>\n",
       "    </tr>\n",
       "    <tr>\n",
       "      <th>2</th>\n",
       "      <td>{726BF13A-9940-0A46-E053-6C04A8C01D0D}</td>\n",
       "      <td>24000</td>\n",
       "      <td>2018-04-10 00:00</td>\n",
       "      <td>SR7 9AG</td>\n",
       "      <td>F</td>\n",
       "      <td>N</td>\n",
       "      <td>L</td>\n",
       "      <td>20B</td>\n",
       "      <td>NaN</td>\n",
       "      <td>WOODS TERRACE</td>\n",
       "      <td>MURTON</td>\n",
       "      <td>SEAHAM</td>\n",
       "      <td>COUNTY DURHAM</td>\n",
       "      <td>COUNTY DURHAM</td>\n",
       "      <td>A</td>\n",
       "      <td>A</td>\n",
       "    </tr>\n",
       "    <tr>\n",
       "      <th>3</th>\n",
       "      <td>{726BF13A-9941-0A46-E053-6C04A8C01D0D}</td>\n",
       "      <td>56000</td>\n",
       "      <td>2018-06-22 00:00</td>\n",
       "      <td>DL5 5PS</td>\n",
       "      <td>T</td>\n",
       "      <td>N</td>\n",
       "      <td>F</td>\n",
       "      <td>6</td>\n",
       "      <td>NaN</td>\n",
       "      <td>HEILD CLOSE</td>\n",
       "      <td>NaN</td>\n",
       "      <td>NEWTON AYCLIFFE</td>\n",
       "      <td>COUNTY DURHAM</td>\n",
       "      <td>COUNTY DURHAM</td>\n",
       "      <td>A</td>\n",
       "      <td>A</td>\n",
       "    </tr>\n",
       "    <tr>\n",
       "      <th>4</th>\n",
       "      <td>{726BF13A-9942-0A46-E053-6C04A8C01D0D}</td>\n",
       "      <td>220000</td>\n",
       "      <td>2018-05-25 00:00</td>\n",
       "      <td>DL16 7HE</td>\n",
       "      <td>D</td>\n",
       "      <td>N</td>\n",
       "      <td>F</td>\n",
       "      <td>25</td>\n",
       "      <td>NaN</td>\n",
       "      <td>BECKWITH CLOSE</td>\n",
       "      <td>KIRK MERRINGTON</td>\n",
       "      <td>SPENNYMOOR</td>\n",
       "      <td>COUNTY DURHAM</td>\n",
       "      <td>COUNTY DURHAM</td>\n",
       "      <td>A</td>\n",
       "      <td>A</td>\n",
       "    </tr>\n",
       "    <tr>\n",
       "      <th>5</th>\n",
       "      <td>{726BF13A-9943-0A46-E053-6C04A8C01D0D}</td>\n",
       "      <td>58000</td>\n",
       "      <td>2018-05-09 00:00</td>\n",
       "      <td>DL14 6FH</td>\n",
       "      <td>F</td>\n",
       "      <td>N</td>\n",
       "      <td>L</td>\n",
       "      <td>23</td>\n",
       "      <td>NaN</td>\n",
       "      <td>AINTREE DRIVE</td>\n",
       "      <td>NaN</td>\n",
       "      <td>BISHOP AUCKLAND</td>\n",
       "      <td>COUNTY DURHAM</td>\n",
       "      <td>COUNTY DURHAM</td>\n",
       "      <td>A</td>\n",
       "      <td>A</td>\n",
       "    </tr>\n",
       "    <tr>\n",
       "      <th>6</th>\n",
       "      <td>{726BF13A-9944-0A46-E053-6C04A8C01D0D}</td>\n",
       "      <td>115000</td>\n",
       "      <td>2018-06-21 00:00</td>\n",
       "      <td>DH8 7SG</td>\n",
       "      <td>D</td>\n",
       "      <td>N</td>\n",
       "      <td>F</td>\n",
       "      <td>4</td>\n",
       "      <td>NaN</td>\n",
       "      <td>EDEN VALE MEWS</td>\n",
       "      <td>LEADGATE</td>\n",
       "      <td>CONSETT</td>\n",
       "      <td>COUNTY DURHAM</td>\n",
       "      <td>COUNTY DURHAM</td>\n",
       "      <td>A</td>\n",
       "      <td>A</td>\n",
       "    </tr>\n",
       "    <tr>\n",
       "      <th>7</th>\n",
       "      <td>{726BF13A-9945-0A46-E053-6C04A8C01D0D}</td>\n",
       "      <td>82000</td>\n",
       "      <td>2018-06-01 00:00</td>\n",
       "      <td>DH8 8AB</td>\n",
       "      <td>S</td>\n",
       "      <td>N</td>\n",
       "      <td>F</td>\n",
       "      <td>24</td>\n",
       "      <td>NaN</td>\n",
       "      <td>ARKLESS GROVE</td>\n",
       "      <td>THE GROVE</td>\n",
       "      <td>CONSETT</td>\n",
       "      <td>COUNTY DURHAM</td>\n",
       "      <td>COUNTY DURHAM</td>\n",
       "      <td>A</td>\n",
       "      <td>A</td>\n",
       "    </tr>\n",
       "    <tr>\n",
       "      <th>8</th>\n",
       "      <td>{726BF13A-9946-0A46-E053-6C04A8C01D0D}</td>\n",
       "      <td>93000</td>\n",
       "      <td>2018-07-06 00:00</td>\n",
       "      <td>DH6 5EJ</td>\n",
       "      <td>S</td>\n",
       "      <td>N</td>\n",
       "      <td>F</td>\n",
       "      <td>14</td>\n",
       "      <td>NaN</td>\n",
       "      <td>HORTON CRESCENT</td>\n",
       "      <td>BOWBURN</td>\n",
       "      <td>DURHAM</td>\n",
       "      <td>COUNTY DURHAM</td>\n",
       "      <td>COUNTY DURHAM</td>\n",
       "      <td>A</td>\n",
       "      <td>A</td>\n",
       "    </tr>\n",
       "    <tr>\n",
       "      <th>9</th>\n",
       "      <td>{726BF13A-9947-0A46-E053-6C04A8C01D0D}</td>\n",
       "      <td>42500</td>\n",
       "      <td>2018-06-27 00:00</td>\n",
       "      <td>DH9 7TP</td>\n",
       "      <td>T</td>\n",
       "      <td>N</td>\n",
       "      <td>F</td>\n",
       "      <td>18</td>\n",
       "      <td>NaN</td>\n",
       "      <td>CATHERINE TERRACE</td>\n",
       "      <td>ANNFIELD PLAIN</td>\n",
       "      <td>STANLEY</td>\n",
       "      <td>COUNTY DURHAM</td>\n",
       "      <td>COUNTY DURHAM</td>\n",
       "      <td>A</td>\n",
       "      <td>A</td>\n",
       "    </tr>\n",
       "  </tbody>\n",
       "</table>\n",
       "</div>"
      ],
      "text/plain": [
       "            transaction_unique_identifier   price  date_of_transfer  postcode  \\\n",
       "0  {726BF13A-993E-0A46-E053-6C04A8C01D0D}   75000  2018-06-20 00:00  DL13 4BA   \n",
       "1  {726BF13A-993F-0A46-E053-6C04A8C01D0D}  115000  2018-07-13 00:00  DL17 9LB   \n",
       "2  {726BF13A-9940-0A46-E053-6C04A8C01D0D}   24000  2018-04-10 00:00   SR7 9AG   \n",
       "3  {726BF13A-9941-0A46-E053-6C04A8C01D0D}   56000  2018-06-22 00:00   DL5 5PS   \n",
       "4  {726BF13A-9942-0A46-E053-6C04A8C01D0D}  220000  2018-05-25 00:00  DL16 7HE   \n",
       "5  {726BF13A-9943-0A46-E053-6C04A8C01D0D}   58000  2018-05-09 00:00  DL14 6FH   \n",
       "6  {726BF13A-9944-0A46-E053-6C04A8C01D0D}  115000  2018-06-21 00:00   DH8 7SG   \n",
       "7  {726BF13A-9945-0A46-E053-6C04A8C01D0D}   82000  2018-06-01 00:00   DH8 8AB   \n",
       "8  {726BF13A-9946-0A46-E053-6C04A8C01D0D}   93000  2018-07-06 00:00   DH6 5EJ   \n",
       "9  {726BF13A-9947-0A46-E053-6C04A8C01D0D}   42500  2018-06-27 00:00   DH9 7TP   \n",
       "\n",
       "   property_type  old_or_new  duration  paon  saon             street  \\\n",
       "0              T           N         F    21   NaN         HIGHFIELDS   \n",
       "1              S           N         F     4   NaN           THE LANE   \n",
       "2              F           N         L   20B   NaN      WOODS TERRACE   \n",
       "3              T           N         F     6   NaN        HEILD CLOSE   \n",
       "4              D           N         F    25   NaN     BECKWITH CLOSE   \n",
       "5              F           N         L    23   NaN      AINTREE DRIVE   \n",
       "6              D           N         F     4   NaN     EDEN VALE MEWS   \n",
       "7              S           N         F    24   NaN      ARKLESS GROVE   \n",
       "8              S           N         F    14   NaN    HORTON CRESCENT   \n",
       "9              T           N         F    18   NaN  CATHERINE TERRACE   \n",
       "\n",
       "          locality        town_city        distrct         county  \\\n",
       "0          TOW LAW  BISHOP AUCKLAND  COUNTY DURHAM  COUNTY DURHAM   \n",
       "1   WEST CORNFORTH        FERRYHILL  COUNTY DURHAM  COUNTY DURHAM   \n",
       "2           MURTON           SEAHAM  COUNTY DURHAM  COUNTY DURHAM   \n",
       "3              NaN  NEWTON AYCLIFFE  COUNTY DURHAM  COUNTY DURHAM   \n",
       "4  KIRK MERRINGTON       SPENNYMOOR  COUNTY DURHAM  COUNTY DURHAM   \n",
       "5              NaN  BISHOP AUCKLAND  COUNTY DURHAM  COUNTY DURHAM   \n",
       "6         LEADGATE          CONSETT  COUNTY DURHAM  COUNTY DURHAM   \n",
       "7        THE GROVE          CONSETT  COUNTY DURHAM  COUNTY DURHAM   \n",
       "8          BOWBURN           DURHAM  COUNTY DURHAM  COUNTY DURHAM   \n",
       "9   ANNFIELD PLAIN          STANLEY  COUNTY DURHAM  COUNTY DURHAM   \n",
       "\n",
       "   pdd_category_type  record_status  \n",
       "0                  A              A  \n",
       "1                  A              A  \n",
       "2                  A              A  \n",
       "3                  A              A  \n",
       "4                  A              A  \n",
       "5                  A              A  \n",
       "6                  A              A  \n",
       "7                  A              A  \n",
       "8                  A              A  \n",
       "9                  A              A  "
      ]
     },
     "execution_count": 181,
     "metadata": {},
     "output_type": "execute_result"
    }
   ],
   "source": [
    "# Obtains first 10 rows of dataset\n",
    "combined_df.head(10)"
   ]
  },
  {
   "cell_type": "code",
   "execution_count": 182,
   "metadata": {},
   "outputs": [
    {
     "data": {
      "text/plain": [
       "<bound method DataFrame.info of                   transaction_unique_identifier   price  date_of_transfer  \\\n",
       "0        {726BF13A-993E-0A46-E053-6C04A8C01D0D}   75000  2018-06-20 00:00   \n",
       "1        {726BF13A-993F-0A46-E053-6C04A8C01D0D}  115000  2018-07-13 00:00   \n",
       "2        {726BF13A-9940-0A46-E053-6C04A8C01D0D}   24000  2018-04-10 00:00   \n",
       "3        {726BF13A-9941-0A46-E053-6C04A8C01D0D}   56000  2018-06-22 00:00   \n",
       "4        {726BF13A-9942-0A46-E053-6C04A8C01D0D}  220000  2018-05-25 00:00   \n",
       "...                                         ...     ...               ...   \n",
       "6785055  {1EAE3DF6-F7A7-9EB1-E063-4704A8C09D02}  505000  2024-04-19 00:00   \n",
       "6785056  {1EAE3DF6-F7A8-9EB1-E063-4704A8C09D02}  260000  2024-03-21 00:00   \n",
       "6785057  {1EAE3DF6-F7A9-9EB1-E063-4704A8C09D02}  240000  2024-07-18 00:00   \n",
       "6785058  {1EAE3DF6-F7AA-9EB1-E063-4704A8C09D02}  246000  2024-03-18 00:00   \n",
       "6785059  {1EAE3DF6-F7AB-9EB1-E063-4704A8C09D02}  228000  2024-05-30 00:00   \n",
       "\n",
       "         postcode  property_type  old_or_new  duration  paon  saon  \\\n",
       "0        DL13 4BA              T           N         F    21   NaN   \n",
       "1        DL17 9LB              S           N         F     4   NaN   \n",
       "2         SR7 9AG              F           N         L   20B   NaN   \n",
       "3         DL5 5PS              T           N         F     6   NaN   \n",
       "4        DL16 7HE              D           N         F    25   NaN   \n",
       "...           ...            ...         ...       ...   ...   ...   \n",
       "6785055   SY4 4FF              D           N         F    32   NaN   \n",
       "6785056   SY4 1DR              D           N         F    15   NaN   \n",
       "6785057   SY3 5FX              F           N         L    27   NaN   \n",
       "6785058   SY2 6FH              T           N         F   121   NaN   \n",
       "6785059   SY5 0FB              S           N         F    84   NaN   \n",
       "\n",
       "                  street         locality        town_city        distrct  \\\n",
       "0             HIGHFIELDS          TOW LAW  BISHOP AUCKLAND  COUNTY DURHAM   \n",
       "1               THE LANE   WEST CORNFORTH        FERRYHILL  COUNTY DURHAM   \n",
       "2          WOODS TERRACE           MURTON           SEAHAM  COUNTY DURHAM   \n",
       "3            HEILD CLOSE              NaN  NEWTON AYCLIFFE  COUNTY DURHAM   \n",
       "4         BECKWITH CLOSE  KIRK MERRINGTON       SPENNYMOOR  COUNTY DURHAM   \n",
       "...                  ...              ...              ...            ...   \n",
       "6785055      ABBOT DRIVE          HADNALL       SHREWSBURY     SHROPSHIRE   \n",
       "6785056    SANDHURST WAY       NESSCLIFFE       SHREWSBURY     SHROPSHIRE   \n",
       "6785057      OLIVER ROAD     BICTON HEATH       SHREWSBURY     SHROPSHIRE   \n",
       "6785058  GARDENERS PLACE              NaN       SHREWSBURY     SHROPSHIRE   \n",
       "6785059    ORCHID MEADOW       MINSTERLEY       SHREWSBURY     SHROPSHIRE   \n",
       "\n",
       "                county  pdd_category_type  record_status  \n",
       "0        COUNTY DURHAM                  A              A  \n",
       "1        COUNTY DURHAM                  A              A  \n",
       "2        COUNTY DURHAM                  A              A  \n",
       "3        COUNTY DURHAM                  A              A  \n",
       "4        COUNTY DURHAM                  A              A  \n",
       "...                ...                ...            ...  \n",
       "6785055     SHROPSHIRE                  A              A  \n",
       "6785056     SHROPSHIRE                  A              A  \n",
       "6785057     SHROPSHIRE                  A              A  \n",
       "6785058     SHROPSHIRE                  A              A  \n",
       "6785059     SHROPSHIRE                  A              A  \n",
       "\n",
       "[6785060 rows x 16 columns]>"
      ]
     },
     "execution_count": 182,
     "metadata": {},
     "output_type": "execute_result"
    }
   ],
   "source": [
    "# Gives overall view of what values can be expected in each column\n",
    "combined_df.info"
   ]
  },
  {
   "cell_type": "code",
   "execution_count": 183,
   "metadata": {},
   "outputs": [
    {
     "data": {
      "text/plain": [
       "(6785060, 16)"
      ]
     },
     "execution_count": 183,
     "metadata": {},
     "output_type": "execute_result"
    }
   ],
   "source": [
    "# Gives no. of rows and columns\n",
    "combined_df.shape"
   ]
  },
  {
   "cell_type": "code",
   "execution_count": 184,
   "metadata": {},
   "outputs": [
    {
     "data": {
      "text/plain": [
       "Index(['transaction_unique_identifier', ' price', ' date_of_transfer',\n",
       "       ' postcode', ' property_type', ' old_or_new', ' duration', ' paon',\n",
       "       ' saon', ' street', ' locality', ' town_city', ' distrct', ' county',\n",
       "       ' pdd_category_type', ' record_status'],\n",
       "      dtype='object')"
      ]
     },
     "execution_count": 184,
     "metadata": {},
     "output_type": "execute_result"
    }
   ],
   "source": [
    "# Provides all column names\n",
    "combined_df.columns"
   ]
  },
  {
   "cell_type": "markdown",
   "metadata": {},
   "source": [
    "### Step 2: Handling Missing Data\n",
    "\n",
    "Locate missing or null values (blanks or NaNs). These values can be handled in the following ways:\n",
    "- Impute: Replace with mean, median, mode or predicted value (for numerical data)\n",
    "- Remove: Delete the roe if too much data is missing or Null\n",
    "- Leave Empty: Might be proper to leave alone"
   ]
  },
  {
   "cell_type": "code",
   "execution_count": 185,
   "metadata": {},
   "outputs": [
    {
     "data": {
      "text/plain": [
       "transaction_unique_identifier          0\n",
       " price                                 0\n",
       " date_of_transfer                      0\n",
       " postcode                          23603\n",
       " property_type                         0\n",
       " old_or_new                            0\n",
       " duration                              0\n",
       " paon                                  0\n",
       " saon                            5888860\n",
       " street                           123782\n",
       " locality                        4194946\n",
       " town_city                             0\n",
       " distrct                               0\n",
       " county                                0\n",
       " pdd_category_type                     0\n",
       " record_status                         0\n",
       "dtype: int64"
      ]
     },
     "execution_count": 185,
     "metadata": {},
     "output_type": "execute_result"
    }
   ],
   "source": [
    "# Identifies no. of NANs in each column\n",
    "combined_df.isna().sum()"
   ]
  },
  {
   "cell_type": "code",
   "execution_count": 186,
   "metadata": {},
   "outputs": [
    {
     "data": {
      "text/plain": [
       "transaction_unique_identifier    0\n",
       " price                           0\n",
       " date_of_transfer                0\n",
       " postcode                        0\n",
       " property_type                   0\n",
       " old_or_new                      0\n",
       " duration                        0\n",
       " paon                            0\n",
       " saon                            0\n",
       " street                          0\n",
       " locality                        0\n",
       " town_city                       0\n",
       " distrct                         0\n",
       " county                          0\n",
       " pdd_category_type               0\n",
       " record_status                   0\n",
       "dtype: int64"
      ]
     },
     "execution_count": 186,
     "metadata": {},
     "output_type": "execute_result"
    }
   ],
   "source": [
    "# Identifies no. of Blanks in each column\n",
    "(combined_df == '').sum()"
   ]
  },
  {
   "cell_type": "markdown",
   "metadata": {},
   "source": [
    "We've ascertained that whilst there are NaNs present in the columns postcode, saon, street and locality, there are no blanks in the dataset.\n",
    "\n",
    "I've decided to convert the NaNs to blanks in the columns saon, street and locality because they would be impossible to determine without further information. Whilst i considered using some APIs to estimate the postcode data using the data present for street, town_city and district, it wouldn't be necessary for our purposes as we can just use the fully present town_city, district and county data for heatmaps and such that use location, rather than rely on estimated postcodes that could potentially be inaccurate."
   ]
  },
  {
   "cell_type": "code",
   "execution_count": 187,
   "metadata": {},
   "outputs": [],
   "source": [
    "# Fill all NaNs in dataset with blanks\n",
    "combined_df.fillna('', inplace = True)"
   ]
  },
  {
   "cell_type": "code",
   "execution_count": 188,
   "metadata": {},
   "outputs": [
    {
     "data": {
      "text/plain": [
       "transaction_unique_identifier          0\n",
       " price                                 0\n",
       " date_of_transfer                      0\n",
       " postcode                          23603\n",
       " property_type                         0\n",
       " old_or_new                            0\n",
       " duration                              0\n",
       " paon                                  0\n",
       " saon                            5888860\n",
       " street                           123782\n",
       " locality                        4194946\n",
       " town_city                             0\n",
       " distrct                               0\n",
       " county                                0\n",
       " pdd_category_type                     0\n",
       " record_status                         0\n",
       "dtype: int64"
      ]
     },
     "execution_count": 188,
     "metadata": {},
     "output_type": "execute_result"
    }
   ],
   "source": [
    "# Confirms no. of Blanks in each column\n",
    "(combined_df == '').sum()"
   ]
  },
  {
   "cell_type": "markdown",
   "metadata": {},
   "source": [
    "As you can see, the number of blanks equals the number of NaNs there were before in each column they were present.\n",
    "\n",
    "### Step 3a: Fix Structural Errors (Data Entry Errors)\n",
    "\n",
    "Correct data entry errors e.g. typos, inconsistent naming convention, formatting etc.\n",
    "\n",
    "We'll begin first with correcting column names:"
   ]
  },
  {
   "cell_type": "code",
   "execution_count": 189,
   "metadata": {},
   "outputs": [],
   "source": [
    "# This piece of code strips unnoticed spaces in the column names\n",
    "# NOTE: I was being prevented from running basic filters on columns because the column name was 'postcode ' instead of 'postcode'\n",
    "combined_df.columns = combined_df.columns.str.strip()"
   ]
  },
  {
   "cell_type": "code",
   "execution_count": 190,
   "metadata": {},
   "outputs": [],
   "source": [
    "# Correct incorrect column name from 'distrct' -> 'district'\n",
    "combined_df.rename(columns = {'distrct': 'district'}, inplace  = True) "
   ]
  },
  {
   "cell_type": "code",
   "execution_count": 191,
   "metadata": {},
   "outputs": [],
   "source": [
    "# Rename column name for ease from 'transaction_unique_identifier' -> 'transaction_id'\n",
    "combined_df.rename(columns = {'transaction_unique_identifier': 'transaction_id'}, inplace  = True) "
   ]
  },
  {
   "cell_type": "code",
   "execution_count": 192,
   "metadata": {},
   "outputs": [
    {
     "data": {
      "text/plain": [
       "['transaction_id',\n",
       " 'price',\n",
       " 'date_of_transfer',\n",
       " 'postcode',\n",
       " 'property_type',\n",
       " 'old_or_new',\n",
       " 'duration',\n",
       " 'paon',\n",
       " 'saon',\n",
       " 'street',\n",
       " 'locality',\n",
       " 'town_city',\n",
       " 'district',\n",
       " 'county',\n",
       " 'pdd_category_type',\n",
       " 'record_status']"
      ]
     },
     "execution_count": 192,
     "metadata": {},
     "output_type": "execute_result"
    }
   ],
   "source": [
    "# Confirm renamed columns\n",
    "combined_df.columns.to_list()"
   ]
  },
  {
   "cell_type": "markdown",
   "metadata": {},
   "source": [
    "Now we can see whether the data in each column is correct:"
   ]
  },
  {
   "cell_type": "code",
   "execution_count": 193,
   "metadata": {},
   "outputs": [
    {
     "data": {
      "text/plain": [
       "['T', 'S', 'F', 'D', 'O']"
      ]
     },
     "execution_count": 193,
     "metadata": {},
     "output_type": "execute_result"
    }
   ],
   "source": [
    "# List of possible values for property_type is correct\n",
    "combined_df['property_type'].unique().tolist()"
   ]
  },
  {
   "cell_type": "code",
   "execution_count": 194,
   "metadata": {},
   "outputs": [
    {
     "data": {
      "text/plain": [
       "['N', 'Y']"
      ]
     },
     "execution_count": 194,
     "metadata": {},
     "output_type": "execute_result"
    }
   ],
   "source": [
    "# List of possible values for old_or_new is correct\n",
    "combined_df['old_or_new'].unique().tolist()"
   ]
  },
  {
   "cell_type": "code",
   "execution_count": 195,
   "metadata": {},
   "outputs": [
    {
     "data": {
      "text/plain": [
       "['F', 'L']"
      ]
     },
     "execution_count": 195,
     "metadata": {},
     "output_type": "execute_result"
    }
   ],
   "source": [
    "# List of possible values for duration is correct\n",
    "combined_df['duration'].unique().tolist()"
   ]
  },
  {
   "cell_type": "code",
   "execution_count": 196,
   "metadata": {},
   "outputs": [
    {
     "data": {
      "text/plain": [
       "town_city\n",
       "GARNDOLBENMAEN    77\n",
       "LYNMOUTH          68\n",
       "MONTACUTE         65\n",
       "LLANDINAM         65\n",
       "LYDBURY NORTH     52\n",
       "LLANFECHAIN       51\n",
       "GLOGUE            44\n",
       "ARTHOG            35\n",
       "RAVENGLASS        29\n",
       "MARIANGLAS        25\n",
       "LLANBEDRGOCH      24\n",
       "RHOSGOCH          22\n",
       "NEWCASTLETON      16\n",
       "DULAS             15\n",
       "MINDRUM           15\n",
       "GRETNA             8\n",
       "GATWICK            7\n",
       "LLANSANFFRAID      2\n",
       "KELSO              1\n",
       "PORT DINORWIC      1\n",
       "Name: count, dtype: int64"
      ]
     },
     "execution_count": 196,
     "metadata": {},
     "output_type": "execute_result"
    }
   ],
   "source": [
    "# Obtains the count for each unique value in the town_city column\n",
    "combined_df['town_city'].value_counts().tail(20)"
   ]
  },
  {
   "cell_type": "code",
   "execution_count": 197,
   "metadata": {},
   "outputs": [
    {
     "data": {
      "text/plain": [
       "district\n",
       "CORBY                    4105\n",
       "WELLINGBOROUGH           3834\n",
       "POOLE                    3571\n",
       "SHEPWAY                  3252\n",
       "CHILTERN                 3143\n",
       "TAUNTON DEANE            2840\n",
       "SUFFOLK COASTAL          2737\n",
       "WAVENEY                  2612\n",
       "WEST DORSET              2447\n",
       "SOUTH BUCKS              2179\n",
       "CITY OF LONDON           2126\n",
       "ST EDMUNDSBURY           2048\n",
       "EAST DORSET              1860\n",
       "WEYMOUTH AND PORTLAND    1643\n",
       "NORTH DORSET             1511\n",
       "FOREST HEATH             1508\n",
       "CHRISTCHURCH             1220\n",
       "PURBECK                  1009\n",
       "WEST SOMERSET             818\n",
       "ISLES OF SCILLY           175\n",
       "Name: count, dtype: int64"
      ]
     },
     "execution_count": 197,
     "metadata": {},
     "output_type": "execute_result"
    }
   ],
   "source": [
    "# Obtains the count for each unique value in the district column\n",
    "combined_df['district'].value_counts().tail(20)"
   ]
  },
  {
   "cell_type": "code",
   "execution_count": 198,
   "metadata": {},
   "outputs": [
    {
     "data": {
      "text/plain": [
       "county\n",
       "NEATH PORT TALBOT          14819\n",
       "POWYS                      14548\n",
       "GWYNEDD                    14496\n",
       "WREXHAM                    12980\n",
       "HALTON                     12822\n",
       "HARTLEPOOL                 12538\n",
       "DENBIGHSHIRE               11646\n",
       "MONMOUTHSHIRE              10917\n",
       "SLOUGH                     10339\n",
       "CUMBERLAND                  9875\n",
       "TORFAEN                     9743\n",
       "WESTMORLAND AND FURNESS     8506\n",
       "ISLE OF ANGLESEY            8305\n",
       "CEREDIGION                  8145\n",
       "BLAENAU GWENT               7281\n",
       "MERTHYR TYDFIL              5645\n",
       "RUTLAND                     4992\n",
       "BOURNEMOUTH                 4562\n",
       "POOLE                       3571\n",
       "ISLES OF SCILLY              175\n",
       "Name: count, dtype: int64"
      ]
     },
     "execution_count": 198,
     "metadata": {},
     "output_type": "execute_result"
    }
   ],
   "source": [
    "# Obtains the count for each unique value in the county column\n",
    "combined_df['county'].value_counts().tail(20)"
   ]
  },
  {
   "cell_type": "markdown",
   "metadata": {},
   "source": [
    "After running .value_counts() on the data and obtaining the lowest 20 counts for town_city, district and county, it is clear that there are no obvious spelling errors in the data. Spelling errors like 'Pooefle' for example would usually only occur once, thus we would be able to instantly see with this method. I crosschecked the 1s and they are all legitimate places.\n",
    "\n",
    "### Step 3b: Fix Structural Errors (Correct Data Types)\n",
    "\n",
    "Ensure data types are correct e.g. convert numeric data stored as text into numbers, and convert dates from text into the datetime format"
   ]
  },
  {
   "cell_type": "code",
   "execution_count": 199,
   "metadata": {},
   "outputs": [
    {
     "data": {
      "text/plain": [
       "transaction_id       object\n",
       "price                 int64\n",
       "date_of_transfer     object\n",
       "postcode             object\n",
       "property_type        object\n",
       "old_or_new           object\n",
       "duration             object\n",
       "paon                 object\n",
       "saon                 object\n",
       "street               object\n",
       "locality             object\n",
       "town_city            object\n",
       "district             object\n",
       "county               object\n",
       "pdd_category_type    object\n",
       "record_status        object\n",
       "dtype: object"
      ]
     },
     "execution_count": 199,
     "metadata": {},
     "output_type": "execute_result"
    }
   ],
   "source": [
    "# Identifies the datatypes for each column\n",
    "combined_df.dtypes"
   ]
  },
  {
   "cell_type": "markdown",
   "metadata": {},
   "source": [
    "As we can see, most are objects, which in python means they are strings. The only one that must be changed is date of transfer."
   ]
  },
  {
   "cell_type": "code",
   "execution_count": 200,
   "metadata": {},
   "outputs": [],
   "source": [
    "# Converts column to datetime format\n",
    "combined_df['date_of_transfer'] = pd.to_datetime(combined_df['date_of_transfer'])"
   ]
  },
  {
   "cell_type": "code",
   "execution_count": 201,
   "metadata": {},
   "outputs": [
    {
     "data": {
      "text/plain": [
       "transaction_id               object\n",
       "price                         int64\n",
       "date_of_transfer     datetime64[ns]\n",
       "postcode                     object\n",
       "property_type                object\n",
       "old_or_new                   object\n",
       "duration                     object\n",
       "paon                         object\n",
       "saon                         object\n",
       "street                       object\n",
       "locality                     object\n",
       "town_city                    object\n",
       "district                     object\n",
       "county                       object\n",
       "pdd_category_type            object\n",
       "record_status                object\n",
       "dtype: object"
      ]
     },
     "execution_count": 201,
     "metadata": {},
     "output_type": "execute_result"
    }
   ],
   "source": [
    "# Checks its been converted\n",
    "combined_df.dtypes"
   ]
  },
  {
   "cell_type": "markdown",
   "metadata": {},
   "source": [
    "### Step 4 - Check for Duplicate Rows"
   ]
  },
  {
   "cell_type": "code",
   "execution_count": 202,
   "metadata": {},
   "outputs": [
    {
     "data": {
      "text/plain": [
       "transaction_id\n",
       "{726BF13A-993E-0A46-E053-6C04A8C01D0D}    1\n",
       "{E7B085FC-5C7F-7E31-E053-6C04A8C0E67F}    1\n",
       "{E7B085FC-5C89-7E31-E053-6C04A8C0E67F}    1\n",
       "{E7B085FC-5C88-7E31-E053-6C04A8C0E67F}    1\n",
       "{E7B085FC-5C87-7E31-E053-6C04A8C0E67F}    1\n",
       "{E7B085FC-5C86-7E31-E053-6C04A8C0E67F}    1\n",
       "{E7B085FC-5C85-7E31-E053-6C04A8C0E67F}    1\n",
       "{E7B085FC-5C84-7E31-E053-6C04A8C0E67F}    1\n",
       "{E7B085FC-5C83-7E31-E053-6C04A8C0E67F}    1\n",
       "{E7B085FC-5C82-7E31-E053-6C04A8C0E67F}    1\n",
       "{E7B085FC-5C81-7E31-E053-6C04A8C0E67F}    1\n",
       "{E7B085FC-5C80-7E31-E053-6C04A8C0E67F}    1\n",
       "{E7B085FC-5C7E-7E31-E053-6C04A8C0E67F}    1\n",
       "{E7B085FC-5C8B-7E31-E053-6C04A8C0E67F}    1\n",
       "{E7B085FC-5C7D-7E31-E053-6C04A8C0E67F}    1\n",
       "{E7B085FC-5C7C-7E31-E053-6C04A8C0E67F}    1\n",
       "{E7B085FC-5C7B-7E31-E053-6C04A8C0E67F}    1\n",
       "{E7B085FC-5C79-7E31-E053-6C04A8C0E67F}    1\n",
       "{E7B085FC-5C78-7E31-E053-6C04A8C0E67F}    1\n",
       "{E7B085FC-5C77-7E31-E053-6C04A8C0E67F}    1\n",
       "Name: count, dtype: int64"
      ]
     },
     "execution_count": 202,
     "metadata": {},
     "output_type": "execute_result"
    }
   ],
   "source": [
    "# Obtains the count for each unique value in the district column\n",
    "combined_df['transaction_id'].value_counts().head(20)"
   ]
  },
  {
   "cell_type": "markdown",
   "metadata": {},
   "source": [
    "As you can see above, after obtaining the count of each unique value in transaction_id, there is not value higher than one, which means each transaction_id is unique, therefore, each row is unique.\n",
    "\n",
    "### Part 5: Final Filters / Adjustments to Columns\n",
    "\n",
    "Before concluding the cleaning, the final adjustments must be made to the dataset to take into account what we have planned for our SQL queries. With regard to the column ppd_category_type, we are only interested in the standard price paid (A), not the additional prices (B), thus we can filter the entire dataset so only those rows with A associated in that column are included in the dataset we will work with. Then we can delete ppd_category_type along with record_status."
   ]
  },
  {
   "cell_type": "code",
   "execution_count": 203,
   "metadata": {},
   "outputs": [
    {
     "data": {
      "text/plain": [
       "['A', 'B']"
      ]
     },
     "execution_count": 203,
     "metadata": {},
     "output_type": "execute_result"
    }
   ],
   "source": [
    "# Obtain list of possible values for pdd_category_type to ensure column is correctly inputted\n",
    "combined_df['pdd_category_type'].unique().tolist()"
   ]
  },
  {
   "cell_type": "code",
   "execution_count": 204,
   "metadata": {},
   "outputs": [],
   "source": [
    "# Filters for rows regarding standard price paid entries only\n",
    "df_price_paid = combined_df[combined_df['pdd_category_type'] == 'A']"
   ]
  },
  {
   "cell_type": "code",
   "execution_count": 205,
   "metadata": {},
   "outputs": [
    {
     "data": {
      "text/plain": [
       "(6785060, 5710657)"
      ]
     },
     "execution_count": 205,
     "metadata": {},
     "output_type": "execute_result"
    }
   ],
   "source": [
    "# Shows number of rows dropped with filter\n",
    "len(combined_df), len(df_price_paid)"
   ]
  },
  {
   "cell_type": "code",
   "execution_count": 206,
   "metadata": {},
   "outputs": [],
   "source": [
    "# Drop ppd_category_type and record_status\n",
    "df_price_paid = df_price_paid.drop(columns = ['pdd_category_type', 'record_status'])"
   ]
  },
  {
   "cell_type": "code",
   "execution_count": 207,
   "metadata": {},
   "outputs": [
    {
     "data": {
      "text/plain": [
       "['transaction_id',\n",
       " 'price',\n",
       " 'date_of_transfer',\n",
       " 'postcode',\n",
       " 'property_type',\n",
       " 'old_or_new',\n",
       " 'duration',\n",
       " 'paon',\n",
       " 'saon',\n",
       " 'street',\n",
       " 'locality',\n",
       " 'town_city',\n",
       " 'district',\n",
       " 'county']"
      ]
     },
     "execution_count": 207,
     "metadata": {},
     "output_type": "execute_result"
    }
   ],
   "source": [
    "# Check column names after drop\n",
    "df_price_paid.columns.to_list()"
   ]
  },
  {
   "cell_type": "markdown",
   "metadata": {},
   "source": [
    "## Dimensional Data Modelling\n",
    "\n",
    "In this section, we will structure the cleaned and edited dataset into FACT and DIM tables.\n",
    "\n",
    "### DIM_date\n",
    "\n",
    "This table allows time-based analysis such as yearly trends and seasonal patterns:"
   ]
  },
  {
   "cell_type": "code",
   "execution_count": 208,
   "metadata": {},
   "outputs": [
    {
     "data": {
      "text/plain": [
       "(Timestamp('2018-01-01 00:00:00'), Timestamp('2024-12-31 00:00:00'))"
      ]
     },
     "execution_count": 208,
     "metadata": {},
     "output_type": "execute_result"
    }
   ],
   "source": [
    "# Find out the earliest and latest dates in the dataset\n",
    "df_price_paid['date_of_transfer'].min(), df_price_paid['date_of_transfer'].max()"
   ]
  },
  {
   "cell_type": "code",
   "execution_count": 209,
   "metadata": {},
   "outputs": [
    {
     "data": {
      "text/html": [
       "<div>\n",
       "<style scoped>\n",
       "    .dataframe tbody tr th:only-of-type {\n",
       "        vertical-align: middle;\n",
       "    }\n",
       "\n",
       "    .dataframe tbody tr th {\n",
       "        vertical-align: top;\n",
       "    }\n",
       "\n",
       "    .dataframe thead th {\n",
       "        text-align: right;\n",
       "    }\n",
       "</style>\n",
       "<table border=\"1\" class=\"dataframe\">\n",
       "  <thead>\n",
       "    <tr style=\"text-align: right;\">\n",
       "      <th></th>\n",
       "      <th>date_of_transfer</th>\n",
       "    </tr>\n",
       "  </thead>\n",
       "  <tbody>\n",
       "    <tr>\n",
       "      <th>0</th>\n",
       "      <td>2018-01-01</td>\n",
       "    </tr>\n",
       "    <tr>\n",
       "      <th>1</th>\n",
       "      <td>2018-01-02</td>\n",
       "    </tr>\n",
       "    <tr>\n",
       "      <th>2</th>\n",
       "      <td>2018-01-03</td>\n",
       "    </tr>\n",
       "    <tr>\n",
       "      <th>3</th>\n",
       "      <td>2018-01-04</td>\n",
       "    </tr>\n",
       "    <tr>\n",
       "      <th>4</th>\n",
       "      <td>2018-01-05</td>\n",
       "    </tr>\n",
       "  </tbody>\n",
       "</table>\n",
       "</div>"
      ],
      "text/plain": [
       "  date_of_transfer\n",
       "0       2018-01-01\n",
       "1       2018-01-02\n",
       "2       2018-01-03\n",
       "3       2018-01-04\n",
       "4       2018-01-05"
      ]
     },
     "execution_count": 209,
     "metadata": {},
     "output_type": "execute_result"
    }
   ],
   "source": [
    "# Define earliest and latest dates in dataset\n",
    "start_date = df_price_paid['date_of_transfer'].min()\n",
    "end_date = df_price_paid['date_of_transfer'].max()\n",
    "\n",
    "# Generate dates from earliest date and latest date\n",
    "date_range = pd.date_range(start = start_date, end = end_date)\n",
    "\n",
    "# Convert to dataframe\n",
    "DIM_date = pd.DataFrame(date_range, columns = ['date_of_transfer'])\n",
    "\n",
    "# Convert date_of_transfer to datetime datatype\n",
    "DIM_date['date_of_transfer'] = pd.to_datetime(DIM_date['date_of_transfer'])\n",
    "\n",
    "# Confirm dataframe\n",
    "DIM_date.head(5)"
   ]
  },
  {
   "cell_type": "code",
   "execution_count": 210,
   "metadata": {},
   "outputs": [
    {
     "data": {
      "text/plain": [
       "date_of_transfer    datetime64[ns]\n",
       "dtype: object"
      ]
     },
     "execution_count": 210,
     "metadata": {},
     "output_type": "execute_result"
    }
   ],
   "source": [
    "# Convert date_of_transfer to datetime datatype\n",
    "DIM_date['date_of_transfer'] = pd.to_datetime(DIM_date['date_of_transfer'])\n",
    "\n",
    "# Confirm datatype\n",
    "DIM_date.dtypes"
   ]
  },
  {
   "cell_type": "code",
   "execution_count": 211,
   "metadata": {},
   "outputs": [
    {
     "data": {
      "text/html": [
       "<div>\n",
       "<style scoped>\n",
       "    .dataframe tbody tr th:only-of-type {\n",
       "        vertical-align: middle;\n",
       "    }\n",
       "\n",
       "    .dataframe tbody tr th {\n",
       "        vertical-align: top;\n",
       "    }\n",
       "\n",
       "    .dataframe thead th {\n",
       "        text-align: right;\n",
       "    }\n",
       "</style>\n",
       "<table border=\"1\" class=\"dataframe\">\n",
       "  <thead>\n",
       "    <tr style=\"text-align: right;\">\n",
       "      <th></th>\n",
       "      <th>date_of_transfer</th>\n",
       "      <th>year</th>\n",
       "      <th>month</th>\n",
       "      <th>quarter</th>\n",
       "    </tr>\n",
       "  </thead>\n",
       "  <tbody>\n",
       "    <tr>\n",
       "      <th>0</th>\n",
       "      <td>2018-01-01</td>\n",
       "      <td>2018</td>\n",
       "      <td>January</td>\n",
       "      <td>Q1</td>\n",
       "    </tr>\n",
       "    <tr>\n",
       "      <th>1</th>\n",
       "      <td>2018-01-02</td>\n",
       "      <td>2018</td>\n",
       "      <td>January</td>\n",
       "      <td>Q1</td>\n",
       "    </tr>\n",
       "    <tr>\n",
       "      <th>2</th>\n",
       "      <td>2018-01-03</td>\n",
       "      <td>2018</td>\n",
       "      <td>January</td>\n",
       "      <td>Q1</td>\n",
       "    </tr>\n",
       "    <tr>\n",
       "      <th>3</th>\n",
       "      <td>2018-01-04</td>\n",
       "      <td>2018</td>\n",
       "      <td>January</td>\n",
       "      <td>Q1</td>\n",
       "    </tr>\n",
       "    <tr>\n",
       "      <th>4</th>\n",
       "      <td>2018-01-05</td>\n",
       "      <td>2018</td>\n",
       "      <td>January</td>\n",
       "      <td>Q1</td>\n",
       "    </tr>\n",
       "  </tbody>\n",
       "</table>\n",
       "</div>"
      ],
      "text/plain": [
       "  date_of_transfer  year    month quarter\n",
       "0       2018-01-01  2018  January      Q1\n",
       "1       2018-01-02  2018  January      Q1\n",
       "2       2018-01-03  2018  January      Q1\n",
       "3       2018-01-04  2018  January      Q1\n",
       "4       2018-01-05  2018  January      Q1"
      ]
     },
     "execution_count": 211,
     "metadata": {},
     "output_type": "execute_result"
    }
   ],
   "source": [
    "# Generate year column in format 'YYYY' and set datatype\n",
    "DIM_date['year'] = DIM_date['date_of_transfer'].dt.strftime('%Y').astype(int)\n",
    "\n",
    "# Generate month column in format of full month name e.g. 'January' and set datatype\n",
    "DIM_date['month'] = DIM_date['date_of_transfer'].dt.strftime('%B').astype(str)\n",
    "\n",
    "# Generate month column in format of full month name e.g. 'January' and set datatype\n",
    "DIM_date['quarter'] = 'Q' + DIM_date['date_of_transfer'].dt.quarter.astype(str)\n",
    "\n",
    "# Confirm new columns\n",
    "DIM_date.head(5)"
   ]
  },
  {
   "cell_type": "code",
   "execution_count": 212,
   "metadata": {},
   "outputs": [
    {
     "data": {
      "text/plain": [
       "date_of_transfer    datetime64[ns]\n",
       "year                         int32\n",
       "month                       object\n",
       "quarter                     object\n",
       "dtype: object"
      ]
     },
     "execution_count": 212,
     "metadata": {},
     "output_type": "execute_result"
    }
   ],
   "source": [
    "# Confirm datatypes are correct\n",
    "DIM_date.dtypes"
   ]
  },
  {
   "cell_type": "code",
   "execution_count": 213,
   "metadata": {},
   "outputs": [
    {
     "data": {
      "text/html": [
       "<div>\n",
       "<style scoped>\n",
       "    .dataframe tbody tr th:only-of-type {\n",
       "        vertical-align: middle;\n",
       "    }\n",
       "\n",
       "    .dataframe tbody tr th {\n",
       "        vertical-align: top;\n",
       "    }\n",
       "\n",
       "    .dataframe thead th {\n",
       "        text-align: right;\n",
       "    }\n",
       "</style>\n",
       "<table border=\"1\" class=\"dataframe\">\n",
       "  <thead>\n",
       "    <tr style=\"text-align: right;\">\n",
       "      <th></th>\n",
       "      <th>index</th>\n",
       "      <th>date_of_transfer</th>\n",
       "      <th>year</th>\n",
       "      <th>month</th>\n",
       "      <th>quarter</th>\n",
       "    </tr>\n",
       "  </thead>\n",
       "  <tbody>\n",
       "    <tr>\n",
       "      <th>0</th>\n",
       "      <td>0</td>\n",
       "      <td>2018-01-01</td>\n",
       "      <td>2018</td>\n",
       "      <td>January</td>\n",
       "      <td>Q1</td>\n",
       "    </tr>\n",
       "    <tr>\n",
       "      <th>1</th>\n",
       "      <td>1</td>\n",
       "      <td>2018-01-02</td>\n",
       "      <td>2018</td>\n",
       "      <td>January</td>\n",
       "      <td>Q1</td>\n",
       "    </tr>\n",
       "    <tr>\n",
       "      <th>2</th>\n",
       "      <td>2</td>\n",
       "      <td>2018-01-03</td>\n",
       "      <td>2018</td>\n",
       "      <td>January</td>\n",
       "      <td>Q1</td>\n",
       "    </tr>\n",
       "    <tr>\n",
       "      <th>3</th>\n",
       "      <td>3</td>\n",
       "      <td>2018-01-04</td>\n",
       "      <td>2018</td>\n",
       "      <td>January</td>\n",
       "      <td>Q1</td>\n",
       "    </tr>\n",
       "    <tr>\n",
       "      <th>4</th>\n",
       "      <td>4</td>\n",
       "      <td>2018-01-05</td>\n",
       "      <td>2018</td>\n",
       "      <td>January</td>\n",
       "      <td>Q1</td>\n",
       "    </tr>\n",
       "  </tbody>\n",
       "</table>\n",
       "</div>"
      ],
      "text/plain": [
       "   index date_of_transfer  year    month quarter\n",
       "0      0       2018-01-01  2018  January      Q1\n",
       "1      1       2018-01-02  2018  January      Q1\n",
       "2      2       2018-01-03  2018  January      Q1\n",
       "3      3       2018-01-04  2018  January      Q1\n",
       "4      4       2018-01-05  2018  January      Q1"
      ]
     },
     "execution_count": 213,
     "metadata": {},
     "output_type": "execute_result"
    }
   ],
   "source": [
    "# Gives us an index column \n",
    "DIM_date = DIM_date.reset_index()\n",
    "\n",
    "# View table after resetting index to check\n",
    "DIM_date.head(5)"
   ]
  },
  {
   "cell_type": "code",
   "execution_count": 214,
   "metadata": {},
   "outputs": [],
   "source": [
    "# Renames index column to date_of_transfer_id\n",
    "DIM_date.rename(columns = {'index': 'date_of_transfer_id'}, inplace = True)"
   ]
  },
  {
   "cell_type": "code",
   "execution_count": 215,
   "metadata": {},
   "outputs": [
    {
     "data": {
      "text/html": [
       "<div>\n",
       "<style scoped>\n",
       "    .dataframe tbody tr th:only-of-type {\n",
       "        vertical-align: middle;\n",
       "    }\n",
       "\n",
       "    .dataframe tbody tr th {\n",
       "        vertical-align: top;\n",
       "    }\n",
       "\n",
       "    .dataframe thead th {\n",
       "        text-align: right;\n",
       "    }\n",
       "</style>\n",
       "<table border=\"1\" class=\"dataframe\">\n",
       "  <thead>\n",
       "    <tr style=\"text-align: right;\">\n",
       "      <th></th>\n",
       "      <th>date_of_transfer_id</th>\n",
       "      <th>date_of_transfer</th>\n",
       "      <th>year</th>\n",
       "      <th>month</th>\n",
       "      <th>quarter</th>\n",
       "    </tr>\n",
       "  </thead>\n",
       "  <tbody>\n",
       "    <tr>\n",
       "      <th>0</th>\n",
       "      <td>0</td>\n",
       "      <td>2018-01-01</td>\n",
       "      <td>2018</td>\n",
       "      <td>January</td>\n",
       "      <td>Q1</td>\n",
       "    </tr>\n",
       "    <tr>\n",
       "      <th>1</th>\n",
       "      <td>1</td>\n",
       "      <td>2018-01-02</td>\n",
       "      <td>2018</td>\n",
       "      <td>January</td>\n",
       "      <td>Q1</td>\n",
       "    </tr>\n",
       "    <tr>\n",
       "      <th>2</th>\n",
       "      <td>2</td>\n",
       "      <td>2018-01-03</td>\n",
       "      <td>2018</td>\n",
       "      <td>January</td>\n",
       "      <td>Q1</td>\n",
       "    </tr>\n",
       "    <tr>\n",
       "      <th>3</th>\n",
       "      <td>3</td>\n",
       "      <td>2018-01-04</td>\n",
       "      <td>2018</td>\n",
       "      <td>January</td>\n",
       "      <td>Q1</td>\n",
       "    </tr>\n",
       "    <tr>\n",
       "      <th>4</th>\n",
       "      <td>4</td>\n",
       "      <td>2018-01-05</td>\n",
       "      <td>2018</td>\n",
       "      <td>January</td>\n",
       "      <td>Q1</td>\n",
       "    </tr>\n",
       "  </tbody>\n",
       "</table>\n",
       "</div>"
      ],
      "text/plain": [
       "   date_of_transfer_id date_of_transfer  year    month quarter\n",
       "0                    0       2018-01-01  2018  January      Q1\n",
       "1                    1       2018-01-02  2018  January      Q1\n",
       "2                    2       2018-01-03  2018  January      Q1\n",
       "3                    3       2018-01-04  2018  January      Q1\n",
       "4                    4       2018-01-05  2018  January      Q1"
      ]
     },
     "execution_count": 215,
     "metadata": {},
     "output_type": "execute_result"
    }
   ],
   "source": [
    "# Confirm table is good\n",
    "DIM_date.head(5)"
   ]
  },
  {
   "cell_type": "markdown",
   "metadata": {},
   "source": [
    "### FACT_price_paid (Link to DIM_date)\n",
    "\n",
    "We will now begin work on the FACT table by linking the FACT and DIM table using a common ID"
   ]
  },
  {
   "cell_type": "code",
   "execution_count": 216,
   "metadata": {},
   "outputs": [
    {
     "data": {
      "text/html": [
       "<div>\n",
       "<style scoped>\n",
       "    .dataframe tbody tr th:only-of-type {\n",
       "        vertical-align: middle;\n",
       "    }\n",
       "\n",
       "    .dataframe tbody tr th {\n",
       "        vertical-align: top;\n",
       "    }\n",
       "\n",
       "    .dataframe thead th {\n",
       "        text-align: right;\n",
       "    }\n",
       "</style>\n",
       "<table border=\"1\" class=\"dataframe\">\n",
       "  <thead>\n",
       "    <tr style=\"text-align: right;\">\n",
       "      <th></th>\n",
       "      <th>transaction_id</th>\n",
       "      <th>price</th>\n",
       "      <th>date_of_transfer</th>\n",
       "      <th>postcode</th>\n",
       "      <th>property_type</th>\n",
       "      <th>old_or_new</th>\n",
       "      <th>duration</th>\n",
       "      <th>paon</th>\n",
       "      <th>saon</th>\n",
       "      <th>street</th>\n",
       "      <th>locality</th>\n",
       "      <th>town_city</th>\n",
       "      <th>district</th>\n",
       "      <th>county</th>\n",
       "    </tr>\n",
       "  </thead>\n",
       "  <tbody>\n",
       "    <tr>\n",
       "      <th>0</th>\n",
       "      <td>{726BF13A-993E-0A46-E053-6C04A8C01D0D}</td>\n",
       "      <td>75000</td>\n",
       "      <td>2018-06-20</td>\n",
       "      <td>DL13 4BA</td>\n",
       "      <td>T</td>\n",
       "      <td>N</td>\n",
       "      <td>F</td>\n",
       "      <td>21</td>\n",
       "      <td></td>\n",
       "      <td>HIGHFIELDS</td>\n",
       "      <td>TOW LAW</td>\n",
       "      <td>BISHOP AUCKLAND</td>\n",
       "      <td>COUNTY DURHAM</td>\n",
       "      <td>COUNTY DURHAM</td>\n",
       "    </tr>\n",
       "  </tbody>\n",
       "</table>\n",
       "</div>"
      ],
      "text/plain": [
       "                           transaction_id  price date_of_transfer  postcode  \\\n",
       "0  {726BF13A-993E-0A46-E053-6C04A8C01D0D}  75000       2018-06-20  DL13 4BA   \n",
       "\n",
       "  property_type old_or_new duration paon saon      street locality  \\\n",
       "0             T          N        F   21       HIGHFIELDS  TOW LAW   \n",
       "\n",
       "         town_city       district         county  \n",
       "0  BISHOP AUCKLAND  COUNTY DURHAM  COUNTY DURHAM  "
      ]
     },
     "execution_count": 216,
     "metadata": {},
     "output_type": "execute_result"
    }
   ],
   "source": [
    "# Makes a copy of the original dataset\n",
    "FACT_price_paid = df_price_paid.copy()\n",
    "\n",
    "# Confirm copy was made\n",
    "FACT_price_paid.head(1)"
   ]
  },
  {
   "cell_type": "code",
   "execution_count": 217,
   "metadata": {},
   "outputs": [],
   "source": [
    "# Merge the Dataframes\n",
    "FACT_price_paid = pd.merge(FACT_price_paid, DIM_date, on = 'date_of_transfer', how = 'left')"
   ]
  },
  {
   "cell_type": "code",
   "execution_count": 218,
   "metadata": {},
   "outputs": [
    {
     "data": {
      "text/html": [
       "<div>\n",
       "<style scoped>\n",
       "    .dataframe tbody tr th:only-of-type {\n",
       "        vertical-align: middle;\n",
       "    }\n",
       "\n",
       "    .dataframe tbody tr th {\n",
       "        vertical-align: top;\n",
       "    }\n",
       "\n",
       "    .dataframe thead th {\n",
       "        text-align: right;\n",
       "    }\n",
       "</style>\n",
       "<table border=\"1\" class=\"dataframe\">\n",
       "  <thead>\n",
       "    <tr style=\"text-align: right;\">\n",
       "      <th></th>\n",
       "      <th>transaction_id</th>\n",
       "      <th>price</th>\n",
       "      <th>date_of_transfer</th>\n",
       "      <th>postcode</th>\n",
       "      <th>property_type</th>\n",
       "      <th>old_or_new</th>\n",
       "      <th>duration</th>\n",
       "      <th>paon</th>\n",
       "      <th>saon</th>\n",
       "      <th>street</th>\n",
       "      <th>locality</th>\n",
       "      <th>town_city</th>\n",
       "      <th>district</th>\n",
       "      <th>county</th>\n",
       "      <th>date_of_transfer_id</th>\n",
       "      <th>year</th>\n",
       "      <th>month</th>\n",
       "      <th>quarter</th>\n",
       "    </tr>\n",
       "  </thead>\n",
       "  <tbody>\n",
       "    <tr>\n",
       "      <th>0</th>\n",
       "      <td>{726BF13A-993E-0A46-E053-6C04A8C01D0D}</td>\n",
       "      <td>75000</td>\n",
       "      <td>2018-06-20</td>\n",
       "      <td>DL13 4BA</td>\n",
       "      <td>T</td>\n",
       "      <td>N</td>\n",
       "      <td>F</td>\n",
       "      <td>21</td>\n",
       "      <td></td>\n",
       "      <td>HIGHFIELDS</td>\n",
       "      <td>TOW LAW</td>\n",
       "      <td>BISHOP AUCKLAND</td>\n",
       "      <td>COUNTY DURHAM</td>\n",
       "      <td>COUNTY DURHAM</td>\n",
       "      <td>170</td>\n",
       "      <td>2018</td>\n",
       "      <td>June</td>\n",
       "      <td>Q2</td>\n",
       "    </tr>\n",
       "  </tbody>\n",
       "</table>\n",
       "</div>"
      ],
      "text/plain": [
       "                           transaction_id  price date_of_transfer  postcode  \\\n",
       "0  {726BF13A-993E-0A46-E053-6C04A8C01D0D}  75000       2018-06-20  DL13 4BA   \n",
       "\n",
       "  property_type old_or_new duration paon saon      street locality  \\\n",
       "0             T          N        F   21       HIGHFIELDS  TOW LAW   \n",
       "\n",
       "         town_city       district         county  date_of_transfer_id  year  \\\n",
       "0  BISHOP AUCKLAND  COUNTY DURHAM  COUNTY DURHAM                  170  2018   \n",
       "\n",
       "  month quarter  \n",
       "0  June      Q2  "
      ]
     },
     "execution_count": 218,
     "metadata": {},
     "output_type": "execute_result"
    }
   ],
   "source": [
    "# Inspect changes\n",
    "FACT_price_paid.head(1)"
   ]
  },
  {
   "cell_type": "code",
   "execution_count": 219,
   "metadata": {},
   "outputs": [],
   "source": [
    "# Drop unnecessary columns for FACT table e.g. year, month, quarter\n",
    "FACT_price_paid = FACT_price_paid.drop(columns = ['year', 'month', 'quarter'])"
   ]
  },
  {
   "cell_type": "code",
   "execution_count": 220,
   "metadata": {},
   "outputs": [
    {
     "data": {
      "text/html": [
       "<div>\n",
       "<style scoped>\n",
       "    .dataframe tbody tr th:only-of-type {\n",
       "        vertical-align: middle;\n",
       "    }\n",
       "\n",
       "    .dataframe tbody tr th {\n",
       "        vertical-align: top;\n",
       "    }\n",
       "\n",
       "    .dataframe thead th {\n",
       "        text-align: right;\n",
       "    }\n",
       "</style>\n",
       "<table border=\"1\" class=\"dataframe\">\n",
       "  <thead>\n",
       "    <tr style=\"text-align: right;\">\n",
       "      <th></th>\n",
       "      <th>transaction_id</th>\n",
       "      <th>price</th>\n",
       "      <th>date_of_transfer</th>\n",
       "      <th>postcode</th>\n",
       "      <th>property_type</th>\n",
       "      <th>old_or_new</th>\n",
       "      <th>duration</th>\n",
       "      <th>paon</th>\n",
       "      <th>saon</th>\n",
       "      <th>street</th>\n",
       "      <th>locality</th>\n",
       "      <th>town_city</th>\n",
       "      <th>district</th>\n",
       "      <th>county</th>\n",
       "      <th>date_of_transfer_id</th>\n",
       "    </tr>\n",
       "  </thead>\n",
       "  <tbody>\n",
       "    <tr>\n",
       "      <th>0</th>\n",
       "      <td>{726BF13A-993E-0A46-E053-6C04A8C01D0D}</td>\n",
       "      <td>75000</td>\n",
       "      <td>2018-06-20</td>\n",
       "      <td>DL13 4BA</td>\n",
       "      <td>T</td>\n",
       "      <td>N</td>\n",
       "      <td>F</td>\n",
       "      <td>21</td>\n",
       "      <td></td>\n",
       "      <td>HIGHFIELDS</td>\n",
       "      <td>TOW LAW</td>\n",
       "      <td>BISHOP AUCKLAND</td>\n",
       "      <td>COUNTY DURHAM</td>\n",
       "      <td>COUNTY DURHAM</td>\n",
       "      <td>170</td>\n",
       "    </tr>\n",
       "  </tbody>\n",
       "</table>\n",
       "</div>"
      ],
      "text/plain": [
       "                           transaction_id  price date_of_transfer  postcode  \\\n",
       "0  {726BF13A-993E-0A46-E053-6C04A8C01D0D}  75000       2018-06-20  DL13 4BA   \n",
       "\n",
       "  property_type old_or_new duration paon saon      street locality  \\\n",
       "0             T          N        F   21       HIGHFIELDS  TOW LAW   \n",
       "\n",
       "         town_city       district         county  date_of_transfer_id  \n",
       "0  BISHOP AUCKLAND  COUNTY DURHAM  COUNTY DURHAM                  170  "
      ]
     },
     "execution_count": 220,
     "metadata": {},
     "output_type": "execute_result"
    }
   ],
   "source": [
    "# Inspect to see whether date_of_transfer_ID has been correctly mapped into the FACT table\n",
    "FACT_price_paid.head(1)"
   ]
  },
  {
   "cell_type": "code",
   "execution_count": 221,
   "metadata": {},
   "outputs": [],
   "source": [
    "# Drop the date_of_transfer column now that its' corresponding ID is in\n",
    "FACT_price_paid = FACT_price_paid.drop(columns = 'date_of_transfer')"
   ]
  },
  {
   "cell_type": "markdown",
   "metadata": {},
   "source": [
    "### DIM_location\n",
    "\n",
    "Stores location based insights for regional analysis:"
   ]
  },
  {
   "cell_type": "code",
   "execution_count": 222,
   "metadata": {},
   "outputs": [],
   "source": [
    "# Extract only the distinct combinations of the location columns\n",
    "DIM_location = FACT_price_paid[['postcode', 'paon', 'saon', 'street', 'locality', 'town_city', 'district', 'county']].drop_duplicates()"
   ]
  },
  {
   "cell_type": "code",
   "execution_count": 223,
   "metadata": {},
   "outputs": [
    {
     "data": {
      "text/html": [
       "<div>\n",
       "<style scoped>\n",
       "    .dataframe tbody tr th:only-of-type {\n",
       "        vertical-align: middle;\n",
       "    }\n",
       "\n",
       "    .dataframe tbody tr th {\n",
       "        vertical-align: top;\n",
       "    }\n",
       "\n",
       "    .dataframe thead th {\n",
       "        text-align: right;\n",
       "    }\n",
       "</style>\n",
       "<table border=\"1\" class=\"dataframe\">\n",
       "  <thead>\n",
       "    <tr style=\"text-align: right;\">\n",
       "      <th></th>\n",
       "      <th>postcode</th>\n",
       "      <th>paon</th>\n",
       "      <th>saon</th>\n",
       "      <th>street</th>\n",
       "      <th>locality</th>\n",
       "      <th>town_city</th>\n",
       "      <th>district</th>\n",
       "      <th>county</th>\n",
       "    </tr>\n",
       "  </thead>\n",
       "  <tbody>\n",
       "    <tr>\n",
       "      <th>0</th>\n",
       "      <td>DL13 4BA</td>\n",
       "      <td>21</td>\n",
       "      <td></td>\n",
       "      <td>HIGHFIELDS</td>\n",
       "      <td>TOW LAW</td>\n",
       "      <td>BISHOP AUCKLAND</td>\n",
       "      <td>COUNTY DURHAM</td>\n",
       "      <td>COUNTY DURHAM</td>\n",
       "    </tr>\n",
       "    <tr>\n",
       "      <th>1</th>\n",
       "      <td>DL17 9LB</td>\n",
       "      <td>4</td>\n",
       "      <td></td>\n",
       "      <td>THE LANE</td>\n",
       "      <td>WEST CORNFORTH</td>\n",
       "      <td>FERRYHILL</td>\n",
       "      <td>COUNTY DURHAM</td>\n",
       "      <td>COUNTY DURHAM</td>\n",
       "    </tr>\n",
       "    <tr>\n",
       "      <th>2</th>\n",
       "      <td>SR7 9AG</td>\n",
       "      <td>20B</td>\n",
       "      <td></td>\n",
       "      <td>WOODS TERRACE</td>\n",
       "      <td>MURTON</td>\n",
       "      <td>SEAHAM</td>\n",
       "      <td>COUNTY DURHAM</td>\n",
       "      <td>COUNTY DURHAM</td>\n",
       "    </tr>\n",
       "    <tr>\n",
       "      <th>3</th>\n",
       "      <td>DL5 5PS</td>\n",
       "      <td>6</td>\n",
       "      <td></td>\n",
       "      <td>HEILD CLOSE</td>\n",
       "      <td></td>\n",
       "      <td>NEWTON AYCLIFFE</td>\n",
       "      <td>COUNTY DURHAM</td>\n",
       "      <td>COUNTY DURHAM</td>\n",
       "    </tr>\n",
       "    <tr>\n",
       "      <th>4</th>\n",
       "      <td>DL16 7HE</td>\n",
       "      <td>25</td>\n",
       "      <td></td>\n",
       "      <td>BECKWITH CLOSE</td>\n",
       "      <td>KIRK MERRINGTON</td>\n",
       "      <td>SPENNYMOOR</td>\n",
       "      <td>COUNTY DURHAM</td>\n",
       "      <td>COUNTY DURHAM</td>\n",
       "    </tr>\n",
       "  </tbody>\n",
       "</table>\n",
       "</div>"
      ],
      "text/plain": [
       "   postcode paon saon          street         locality        town_city  \\\n",
       "0  DL13 4BA   21           HIGHFIELDS          TOW LAW  BISHOP AUCKLAND   \n",
       "1  DL17 9LB    4             THE LANE   WEST CORNFORTH        FERRYHILL   \n",
       "2   SR7 9AG  20B        WOODS TERRACE           MURTON           SEAHAM   \n",
       "3   DL5 5PS    6          HEILD CLOSE                   NEWTON AYCLIFFE   \n",
       "4  DL16 7HE   25       BECKWITH CLOSE  KIRK MERRINGTON       SPENNYMOOR   \n",
       "\n",
       "        district         county  \n",
       "0  COUNTY DURHAM  COUNTY DURHAM  \n",
       "1  COUNTY DURHAM  COUNTY DURHAM  \n",
       "2  COUNTY DURHAM  COUNTY DURHAM  \n",
       "3  COUNTY DURHAM  COUNTY DURHAM  \n",
       "4  COUNTY DURHAM  COUNTY DURHAM  "
      ]
     },
     "execution_count": 223,
     "metadata": {},
     "output_type": "execute_result"
    }
   ],
   "source": [
    "# Inspect new dim table\n",
    "DIM_location.head()"
   ]
  },
  {
   "cell_type": "code",
   "execution_count": 224,
   "metadata": {},
   "outputs": [
    {
     "data": {
      "text/html": [
       "<div>\n",
       "<style scoped>\n",
       "    .dataframe tbody tr th:only-of-type {\n",
       "        vertical-align: middle;\n",
       "    }\n",
       "\n",
       "    .dataframe tbody tr th {\n",
       "        vertical-align: top;\n",
       "    }\n",
       "\n",
       "    .dataframe thead th {\n",
       "        text-align: right;\n",
       "    }\n",
       "</style>\n",
       "<table border=\"1\" class=\"dataframe\">\n",
       "  <thead>\n",
       "    <tr style=\"text-align: right;\">\n",
       "      <th></th>\n",
       "      <th>index</th>\n",
       "      <th>postcode</th>\n",
       "      <th>paon</th>\n",
       "      <th>saon</th>\n",
       "      <th>street</th>\n",
       "      <th>locality</th>\n",
       "      <th>town_city</th>\n",
       "      <th>district</th>\n",
       "      <th>county</th>\n",
       "    </tr>\n",
       "  </thead>\n",
       "  <tbody>\n",
       "    <tr>\n",
       "      <th>0</th>\n",
       "      <td>0</td>\n",
       "      <td>DL13 4BA</td>\n",
       "      <td>21</td>\n",
       "      <td></td>\n",
       "      <td>HIGHFIELDS</td>\n",
       "      <td>TOW LAW</td>\n",
       "      <td>BISHOP AUCKLAND</td>\n",
       "      <td>COUNTY DURHAM</td>\n",
       "      <td>COUNTY DURHAM</td>\n",
       "    </tr>\n",
       "    <tr>\n",
       "      <th>1</th>\n",
       "      <td>1</td>\n",
       "      <td>DL17 9LB</td>\n",
       "      <td>4</td>\n",
       "      <td></td>\n",
       "      <td>THE LANE</td>\n",
       "      <td>WEST CORNFORTH</td>\n",
       "      <td>FERRYHILL</td>\n",
       "      <td>COUNTY DURHAM</td>\n",
       "      <td>COUNTY DURHAM</td>\n",
       "    </tr>\n",
       "    <tr>\n",
       "      <th>2</th>\n",
       "      <td>2</td>\n",
       "      <td>SR7 9AG</td>\n",
       "      <td>20B</td>\n",
       "      <td></td>\n",
       "      <td>WOODS TERRACE</td>\n",
       "      <td>MURTON</td>\n",
       "      <td>SEAHAM</td>\n",
       "      <td>COUNTY DURHAM</td>\n",
       "      <td>COUNTY DURHAM</td>\n",
       "    </tr>\n",
       "    <tr>\n",
       "      <th>3</th>\n",
       "      <td>3</td>\n",
       "      <td>DL5 5PS</td>\n",
       "      <td>6</td>\n",
       "      <td></td>\n",
       "      <td>HEILD CLOSE</td>\n",
       "      <td></td>\n",
       "      <td>NEWTON AYCLIFFE</td>\n",
       "      <td>COUNTY DURHAM</td>\n",
       "      <td>COUNTY DURHAM</td>\n",
       "    </tr>\n",
       "    <tr>\n",
       "      <th>4</th>\n",
       "      <td>4</td>\n",
       "      <td>DL16 7HE</td>\n",
       "      <td>25</td>\n",
       "      <td></td>\n",
       "      <td>BECKWITH CLOSE</td>\n",
       "      <td>KIRK MERRINGTON</td>\n",
       "      <td>SPENNYMOOR</td>\n",
       "      <td>COUNTY DURHAM</td>\n",
       "      <td>COUNTY DURHAM</td>\n",
       "    </tr>\n",
       "  </tbody>\n",
       "</table>\n",
       "</div>"
      ],
      "text/plain": [
       "   index  postcode paon saon          street         locality  \\\n",
       "0      0  DL13 4BA   21           HIGHFIELDS          TOW LAW   \n",
       "1      1  DL17 9LB    4             THE LANE   WEST CORNFORTH   \n",
       "2      2   SR7 9AG  20B        WOODS TERRACE           MURTON   \n",
       "3      3   DL5 5PS    6          HEILD CLOSE                    \n",
       "4      4  DL16 7HE   25       BECKWITH CLOSE  KIRK MERRINGTON   \n",
       "\n",
       "         town_city       district         county  \n",
       "0  BISHOP AUCKLAND  COUNTY DURHAM  COUNTY DURHAM  \n",
       "1        FERRYHILL  COUNTY DURHAM  COUNTY DURHAM  \n",
       "2           SEAHAM  COUNTY DURHAM  COUNTY DURHAM  \n",
       "3  NEWTON AYCLIFFE  COUNTY DURHAM  COUNTY DURHAM  \n",
       "4       SPENNYMOOR  COUNTY DURHAM  COUNTY DURHAM  "
      ]
     },
     "execution_count": 224,
     "metadata": {},
     "output_type": "execute_result"
    }
   ],
   "source": [
    "# Gives us an index column \n",
    "DIM_location = DIM_location.reset_index()\n",
    "\n",
    "# View table after resetting index to check\n",
    "DIM_location.head(5)"
   ]
  },
  {
   "cell_type": "code",
   "execution_count": 225,
   "metadata": {},
   "outputs": [
    {
     "data": {
      "text/html": [
       "<div>\n",
       "<style scoped>\n",
       "    .dataframe tbody tr th:only-of-type {\n",
       "        vertical-align: middle;\n",
       "    }\n",
       "\n",
       "    .dataframe tbody tr th {\n",
       "        vertical-align: top;\n",
       "    }\n",
       "\n",
       "    .dataframe thead th {\n",
       "        text-align: right;\n",
       "    }\n",
       "</style>\n",
       "<table border=\"1\" class=\"dataframe\">\n",
       "  <thead>\n",
       "    <tr style=\"text-align: right;\">\n",
       "      <th></th>\n",
       "      <th>location_id</th>\n",
       "      <th>postcode</th>\n",
       "      <th>paon</th>\n",
       "      <th>saon</th>\n",
       "      <th>street</th>\n",
       "      <th>locality</th>\n",
       "      <th>town_city</th>\n",
       "      <th>district</th>\n",
       "      <th>county</th>\n",
       "    </tr>\n",
       "  </thead>\n",
       "  <tbody>\n",
       "    <tr>\n",
       "      <th>0</th>\n",
       "      <td>0</td>\n",
       "      <td>DL13 4BA</td>\n",
       "      <td>21</td>\n",
       "      <td></td>\n",
       "      <td>HIGHFIELDS</td>\n",
       "      <td>TOW LAW</td>\n",
       "      <td>BISHOP AUCKLAND</td>\n",
       "      <td>COUNTY DURHAM</td>\n",
       "      <td>COUNTY DURHAM</td>\n",
       "    </tr>\n",
       "    <tr>\n",
       "      <th>1</th>\n",
       "      <td>1</td>\n",
       "      <td>DL17 9LB</td>\n",
       "      <td>4</td>\n",
       "      <td></td>\n",
       "      <td>THE LANE</td>\n",
       "      <td>WEST CORNFORTH</td>\n",
       "      <td>FERRYHILL</td>\n",
       "      <td>COUNTY DURHAM</td>\n",
       "      <td>COUNTY DURHAM</td>\n",
       "    </tr>\n",
       "    <tr>\n",
       "      <th>2</th>\n",
       "      <td>2</td>\n",
       "      <td>SR7 9AG</td>\n",
       "      <td>20B</td>\n",
       "      <td></td>\n",
       "      <td>WOODS TERRACE</td>\n",
       "      <td>MURTON</td>\n",
       "      <td>SEAHAM</td>\n",
       "      <td>COUNTY DURHAM</td>\n",
       "      <td>COUNTY DURHAM</td>\n",
       "    </tr>\n",
       "    <tr>\n",
       "      <th>3</th>\n",
       "      <td>3</td>\n",
       "      <td>DL5 5PS</td>\n",
       "      <td>6</td>\n",
       "      <td></td>\n",
       "      <td>HEILD CLOSE</td>\n",
       "      <td></td>\n",
       "      <td>NEWTON AYCLIFFE</td>\n",
       "      <td>COUNTY DURHAM</td>\n",
       "      <td>COUNTY DURHAM</td>\n",
       "    </tr>\n",
       "    <tr>\n",
       "      <th>4</th>\n",
       "      <td>4</td>\n",
       "      <td>DL16 7HE</td>\n",
       "      <td>25</td>\n",
       "      <td></td>\n",
       "      <td>BECKWITH CLOSE</td>\n",
       "      <td>KIRK MERRINGTON</td>\n",
       "      <td>SPENNYMOOR</td>\n",
       "      <td>COUNTY DURHAM</td>\n",
       "      <td>COUNTY DURHAM</td>\n",
       "    </tr>\n",
       "  </tbody>\n",
       "</table>\n",
       "</div>"
      ],
      "text/plain": [
       "   location_id  postcode paon saon          street         locality  \\\n",
       "0            0  DL13 4BA   21           HIGHFIELDS          TOW LAW   \n",
       "1            1  DL17 9LB    4             THE LANE   WEST CORNFORTH   \n",
       "2            2   SR7 9AG  20B        WOODS TERRACE           MURTON   \n",
       "3            3   DL5 5PS    6          HEILD CLOSE                    \n",
       "4            4  DL16 7HE   25       BECKWITH CLOSE  KIRK MERRINGTON   \n",
       "\n",
       "         town_city       district         county  \n",
       "0  BISHOP AUCKLAND  COUNTY DURHAM  COUNTY DURHAM  \n",
       "1        FERRYHILL  COUNTY DURHAM  COUNTY DURHAM  \n",
       "2           SEAHAM  COUNTY DURHAM  COUNTY DURHAM  \n",
       "3  NEWTON AYCLIFFE  COUNTY DURHAM  COUNTY DURHAM  \n",
       "4       SPENNYMOOR  COUNTY DURHAM  COUNTY DURHAM  "
      ]
     },
     "execution_count": 225,
     "metadata": {},
     "output_type": "execute_result"
    }
   ],
   "source": [
    "# Renames index column to date_of_transfer_id\n",
    "DIM_location.rename(columns = {'index': 'location_id'}, inplace = True)\n",
    "\n",
    "# View table after renaming index to check\n",
    "DIM_location.head(5)"
   ]
  },
  {
   "cell_type": "code",
   "execution_count": 230,
   "metadata": {},
   "outputs": [
    {
     "data": {
      "text/plain": [
       "location_id     int64\n",
       "postcode       object\n",
       "paon           object\n",
       "saon           object\n",
       "street         object\n",
       "locality       object\n",
       "town_city      object\n",
       "district       object\n",
       "county         object\n",
       "dtype: object"
      ]
     },
     "execution_count": 230,
     "metadata": {},
     "output_type": "execute_result"
    }
   ],
   "source": [
    "# Confirm DIM_location data types are fine\n",
    "DIM_location.dtypes"
   ]
  },
  {
   "cell_type": "markdown",
   "metadata": {},
   "source": [
    "### FACT_price_paid (Link to DIM_location)\n",
    "\n",
    "We will now begin work on the FACT table by linking the FACT and DIM table using a common ID"
   ]
  },
  {
   "cell_type": "code",
   "execution_count": 226,
   "metadata": {},
   "outputs": [
    {
     "data": {
      "text/html": [
       "<div>\n",
       "<style scoped>\n",
       "    .dataframe tbody tr th:only-of-type {\n",
       "        vertical-align: middle;\n",
       "    }\n",
       "\n",
       "    .dataframe tbody tr th {\n",
       "        vertical-align: top;\n",
       "    }\n",
       "\n",
       "    .dataframe thead th {\n",
       "        text-align: right;\n",
       "    }\n",
       "</style>\n",
       "<table border=\"1\" class=\"dataframe\">\n",
       "  <thead>\n",
       "    <tr style=\"text-align: right;\">\n",
       "      <th></th>\n",
       "      <th>transaction_id</th>\n",
       "      <th>price</th>\n",
       "      <th>postcode</th>\n",
       "      <th>property_type</th>\n",
       "      <th>old_or_new</th>\n",
       "      <th>duration</th>\n",
       "      <th>paon</th>\n",
       "      <th>saon</th>\n",
       "      <th>street</th>\n",
       "      <th>locality</th>\n",
       "      <th>town_city</th>\n",
       "      <th>district</th>\n",
       "      <th>county</th>\n",
       "      <th>date_of_transfer_id</th>\n",
       "    </tr>\n",
       "  </thead>\n",
       "  <tbody>\n",
       "    <tr>\n",
       "      <th>0</th>\n",
       "      <td>{726BF13A-993E-0A46-E053-6C04A8C01D0D}</td>\n",
       "      <td>75000</td>\n",
       "      <td>DL13 4BA</td>\n",
       "      <td>T</td>\n",
       "      <td>N</td>\n",
       "      <td>F</td>\n",
       "      <td>21</td>\n",
       "      <td></td>\n",
       "      <td>HIGHFIELDS</td>\n",
       "      <td>TOW LAW</td>\n",
       "      <td>BISHOP AUCKLAND</td>\n",
       "      <td>COUNTY DURHAM</td>\n",
       "      <td>COUNTY DURHAM</td>\n",
       "      <td>170</td>\n",
       "    </tr>\n",
       "  </tbody>\n",
       "</table>\n",
       "</div>"
      ],
      "text/plain": [
       "                           transaction_id  price  postcode property_type  \\\n",
       "0  {726BF13A-993E-0A46-E053-6C04A8C01D0D}  75000  DL13 4BA             T   \n",
       "\n",
       "  old_or_new duration paon saon      street locality        town_city  \\\n",
       "0          N        F   21       HIGHFIELDS  TOW LAW  BISHOP AUCKLAND   \n",
       "\n",
       "        district         county  date_of_transfer_id  \n",
       "0  COUNTY DURHAM  COUNTY DURHAM                  170  "
      ]
     },
     "execution_count": 226,
     "metadata": {},
     "output_type": "execute_result"
    }
   ],
   "source": [
    "# Inspect FACT table\n",
    "FACT_price_paid.head(1)"
   ]
  },
  {
   "cell_type": "code",
   "execution_count": 227,
   "metadata": {},
   "outputs": [],
   "source": [
    "# Merge the Dataframes\n",
    "FACT_price_paid = pd.merge(FACT_price_paid, DIM_location, on = ['postcode', 'paon', 'saon', 'street', 'locality', 'town_city', 'district', 'county'], how = 'left')"
   ]
  },
  {
   "cell_type": "code",
   "execution_count": 228,
   "metadata": {},
   "outputs": [
    {
     "data": {
      "text/html": [
       "<div>\n",
       "<style scoped>\n",
       "    .dataframe tbody tr th:only-of-type {\n",
       "        vertical-align: middle;\n",
       "    }\n",
       "\n",
       "    .dataframe tbody tr th {\n",
       "        vertical-align: top;\n",
       "    }\n",
       "\n",
       "    .dataframe thead th {\n",
       "        text-align: right;\n",
       "    }\n",
       "</style>\n",
       "<table border=\"1\" class=\"dataframe\">\n",
       "  <thead>\n",
       "    <tr style=\"text-align: right;\">\n",
       "      <th></th>\n",
       "      <th>transaction_id</th>\n",
       "      <th>price</th>\n",
       "      <th>postcode</th>\n",
       "      <th>property_type</th>\n",
       "      <th>old_or_new</th>\n",
       "      <th>duration</th>\n",
       "      <th>paon</th>\n",
       "      <th>saon</th>\n",
       "      <th>street</th>\n",
       "      <th>locality</th>\n",
       "      <th>town_city</th>\n",
       "      <th>district</th>\n",
       "      <th>county</th>\n",
       "      <th>date_of_transfer_id</th>\n",
       "      <th>location_id</th>\n",
       "    </tr>\n",
       "  </thead>\n",
       "  <tbody>\n",
       "    <tr>\n",
       "      <th>0</th>\n",
       "      <td>{726BF13A-993E-0A46-E053-6C04A8C01D0D}</td>\n",
       "      <td>75000</td>\n",
       "      <td>DL13 4BA</td>\n",
       "      <td>T</td>\n",
       "      <td>N</td>\n",
       "      <td>F</td>\n",
       "      <td>21</td>\n",
       "      <td></td>\n",
       "      <td>HIGHFIELDS</td>\n",
       "      <td>TOW LAW</td>\n",
       "      <td>BISHOP AUCKLAND</td>\n",
       "      <td>COUNTY DURHAM</td>\n",
       "      <td>COUNTY DURHAM</td>\n",
       "      <td>170</td>\n",
       "      <td>0</td>\n",
       "    </tr>\n",
       "    <tr>\n",
       "      <th>1</th>\n",
       "      <td>{726BF13A-993F-0A46-E053-6C04A8C01D0D}</td>\n",
       "      <td>115000</td>\n",
       "      <td>DL17 9LB</td>\n",
       "      <td>S</td>\n",
       "      <td>N</td>\n",
       "      <td>F</td>\n",
       "      <td>4</td>\n",
       "      <td></td>\n",
       "      <td>THE LANE</td>\n",
       "      <td>WEST CORNFORTH</td>\n",
       "      <td>FERRYHILL</td>\n",
       "      <td>COUNTY DURHAM</td>\n",
       "      <td>COUNTY DURHAM</td>\n",
       "      <td>193</td>\n",
       "      <td>1</td>\n",
       "    </tr>\n",
       "    <tr>\n",
       "      <th>2</th>\n",
       "      <td>{726BF13A-9940-0A46-E053-6C04A8C01D0D}</td>\n",
       "      <td>24000</td>\n",
       "      <td>SR7 9AG</td>\n",
       "      <td>F</td>\n",
       "      <td>N</td>\n",
       "      <td>L</td>\n",
       "      <td>20B</td>\n",
       "      <td></td>\n",
       "      <td>WOODS TERRACE</td>\n",
       "      <td>MURTON</td>\n",
       "      <td>SEAHAM</td>\n",
       "      <td>COUNTY DURHAM</td>\n",
       "      <td>COUNTY DURHAM</td>\n",
       "      <td>99</td>\n",
       "      <td>2</td>\n",
       "    </tr>\n",
       "    <tr>\n",
       "      <th>3</th>\n",
       "      <td>{726BF13A-9941-0A46-E053-6C04A8C01D0D}</td>\n",
       "      <td>56000</td>\n",
       "      <td>DL5 5PS</td>\n",
       "      <td>T</td>\n",
       "      <td>N</td>\n",
       "      <td>F</td>\n",
       "      <td>6</td>\n",
       "      <td></td>\n",
       "      <td>HEILD CLOSE</td>\n",
       "      <td></td>\n",
       "      <td>NEWTON AYCLIFFE</td>\n",
       "      <td>COUNTY DURHAM</td>\n",
       "      <td>COUNTY DURHAM</td>\n",
       "      <td>172</td>\n",
       "      <td>3</td>\n",
       "    </tr>\n",
       "    <tr>\n",
       "      <th>4</th>\n",
       "      <td>{726BF13A-9942-0A46-E053-6C04A8C01D0D}</td>\n",
       "      <td>220000</td>\n",
       "      <td>DL16 7HE</td>\n",
       "      <td>D</td>\n",
       "      <td>N</td>\n",
       "      <td>F</td>\n",
       "      <td>25</td>\n",
       "      <td></td>\n",
       "      <td>BECKWITH CLOSE</td>\n",
       "      <td>KIRK MERRINGTON</td>\n",
       "      <td>SPENNYMOOR</td>\n",
       "      <td>COUNTY DURHAM</td>\n",
       "      <td>COUNTY DURHAM</td>\n",
       "      <td>144</td>\n",
       "      <td>4</td>\n",
       "    </tr>\n",
       "  </tbody>\n",
       "</table>\n",
       "</div>"
      ],
      "text/plain": [
       "                           transaction_id   price  postcode property_type  \\\n",
       "0  {726BF13A-993E-0A46-E053-6C04A8C01D0D}   75000  DL13 4BA             T   \n",
       "1  {726BF13A-993F-0A46-E053-6C04A8C01D0D}  115000  DL17 9LB             S   \n",
       "2  {726BF13A-9940-0A46-E053-6C04A8C01D0D}   24000   SR7 9AG             F   \n",
       "3  {726BF13A-9941-0A46-E053-6C04A8C01D0D}   56000   DL5 5PS             T   \n",
       "4  {726BF13A-9942-0A46-E053-6C04A8C01D0D}  220000  DL16 7HE             D   \n",
       "\n",
       "  old_or_new duration paon saon          street         locality  \\\n",
       "0          N        F   21           HIGHFIELDS          TOW LAW   \n",
       "1          N        F    4             THE LANE   WEST CORNFORTH   \n",
       "2          N        L  20B        WOODS TERRACE           MURTON   \n",
       "3          N        F    6          HEILD CLOSE                    \n",
       "4          N        F   25       BECKWITH CLOSE  KIRK MERRINGTON   \n",
       "\n",
       "         town_city       district         county  date_of_transfer_id  \\\n",
       "0  BISHOP AUCKLAND  COUNTY DURHAM  COUNTY DURHAM                  170   \n",
       "1        FERRYHILL  COUNTY DURHAM  COUNTY DURHAM                  193   \n",
       "2           SEAHAM  COUNTY DURHAM  COUNTY DURHAM                   99   \n",
       "3  NEWTON AYCLIFFE  COUNTY DURHAM  COUNTY DURHAM                  172   \n",
       "4       SPENNYMOOR  COUNTY DURHAM  COUNTY DURHAM                  144   \n",
       "\n",
       "   location_id  \n",
       "0            0  \n",
       "1            1  \n",
       "2            2  \n",
       "3            3  \n",
       "4            4  "
      ]
     },
     "execution_count": 228,
     "metadata": {},
     "output_type": "execute_result"
    }
   ],
   "source": [
    "# Inspect FACT table, check if the IDs map correctly\n",
    "FACT_price_paid.head(5)"
   ]
  },
  {
   "cell_type": "code",
   "execution_count": 231,
   "metadata": {},
   "outputs": [],
   "source": [
    "# Drop the location column now that their corresponding ID is in FACT table\n",
    "FACT_price_paid = FACT_price_paid.drop(columns = ['postcode', 'paon', 'saon', 'street', 'locality', 'town_city', 'district', 'county'])"
   ]
  },
  {
   "cell_type": "code",
   "execution_count": 232,
   "metadata": {},
   "outputs": [
    {
     "data": {
      "text/html": [
       "<div>\n",
       "<style scoped>\n",
       "    .dataframe tbody tr th:only-of-type {\n",
       "        vertical-align: middle;\n",
       "    }\n",
       "\n",
       "    .dataframe tbody tr th {\n",
       "        vertical-align: top;\n",
       "    }\n",
       "\n",
       "    .dataframe thead th {\n",
       "        text-align: right;\n",
       "    }\n",
       "</style>\n",
       "<table border=\"1\" class=\"dataframe\">\n",
       "  <thead>\n",
       "    <tr style=\"text-align: right;\">\n",
       "      <th></th>\n",
       "      <th>transaction_id</th>\n",
       "      <th>price</th>\n",
       "      <th>property_type</th>\n",
       "      <th>old_or_new</th>\n",
       "      <th>duration</th>\n",
       "      <th>date_of_transfer_id</th>\n",
       "      <th>location_id</th>\n",
       "    </tr>\n",
       "  </thead>\n",
       "  <tbody>\n",
       "    <tr>\n",
       "      <th>0</th>\n",
       "      <td>{726BF13A-993E-0A46-E053-6C04A8C01D0D}</td>\n",
       "      <td>75000</td>\n",
       "      <td>T</td>\n",
       "      <td>N</td>\n",
       "      <td>F</td>\n",
       "      <td>170</td>\n",
       "      <td>0</td>\n",
       "    </tr>\n",
       "  </tbody>\n",
       "</table>\n",
       "</div>"
      ],
      "text/plain": [
       "                           transaction_id  price property_type old_or_new  \\\n",
       "0  {726BF13A-993E-0A46-E053-6C04A8C01D0D}  75000             T          N   \n",
       "\n",
       "  duration  date_of_transfer_id  location_id  \n",
       "0        F                  170            0  "
      ]
     },
     "execution_count": 232,
     "metadata": {},
     "output_type": "execute_result"
    }
   ],
   "source": [
    "# Inspect FACT table, confirm columns are correctly dropped\n",
    "FACT_price_paid.head(1)"
   ]
  },
  {
   "cell_type": "markdown",
   "metadata": {},
   "source": [
    "### DIM_property_type\n",
    "\n",
    "Stores Property Specific details:"
   ]
  },
  {
   "cell_type": "code",
   "execution_count": 255,
   "metadata": {},
   "outputs": [],
   "source": [
    "# Extract only the distinct combinations of the location columns\n",
    "DIM_property_type = FACT_price_paid['property_type'].drop_duplicates()"
   ]
  },
  {
   "cell_type": "code",
   "execution_count": 256,
   "metadata": {},
   "outputs": [
    {
     "data": {
      "text/plain": [
       "0    T\n",
       "1    S\n",
       "2    F\n",
       "4    D\n",
       "Name: property_type, dtype: object"
      ]
     },
     "execution_count": 256,
     "metadata": {},
     "output_type": "execute_result"
    }
   ],
   "source": [
    "# Inspect new dim table\n",
    "DIM_property_type.head()"
   ]
  },
  {
   "cell_type": "code",
   "execution_count": 257,
   "metadata": {},
   "outputs": [
    {
     "data": {
      "text/html": [
       "<div>\n",
       "<style scoped>\n",
       "    .dataframe tbody tr th:only-of-type {\n",
       "        vertical-align: middle;\n",
       "    }\n",
       "\n",
       "    .dataframe tbody tr th {\n",
       "        vertical-align: top;\n",
       "    }\n",
       "\n",
       "    .dataframe thead th {\n",
       "        text-align: right;\n",
       "    }\n",
       "</style>\n",
       "<table border=\"1\" class=\"dataframe\">\n",
       "  <thead>\n",
       "    <tr style=\"text-align: right;\">\n",
       "      <th></th>\n",
       "      <th>level_0</th>\n",
       "      <th>index</th>\n",
       "      <th>property_type</th>\n",
       "    </tr>\n",
       "  </thead>\n",
       "  <tbody>\n",
       "    <tr>\n",
       "      <th>0</th>\n",
       "      <td>0</td>\n",
       "      <td>0</td>\n",
       "      <td>T</td>\n",
       "    </tr>\n",
       "    <tr>\n",
       "      <th>1</th>\n",
       "      <td>1</td>\n",
       "      <td>1</td>\n",
       "      <td>S</td>\n",
       "    </tr>\n",
       "    <tr>\n",
       "      <th>2</th>\n",
       "      <td>2</td>\n",
       "      <td>2</td>\n",
       "      <td>F</td>\n",
       "    </tr>\n",
       "    <tr>\n",
       "      <th>3</th>\n",
       "      <td>3</td>\n",
       "      <td>4</td>\n",
       "      <td>D</td>\n",
       "    </tr>\n",
       "  </tbody>\n",
       "</table>\n",
       "</div>"
      ],
      "text/plain": [
       "   level_0  index property_type\n",
       "0        0      0             T\n",
       "1        1      1             S\n",
       "2        2      2             F\n",
       "3        3      4             D"
      ]
     },
     "execution_count": 257,
     "metadata": {},
     "output_type": "execute_result"
    }
   ],
   "source": [
    "# Gives us an index column \n",
    "DIM_property_type = DIM_property_type.reset_index()\n",
    "\n",
    "# Gives us an index column again so no index skip between 2 and 4\n",
    "DIM_property_type = DIM_property_type.reset_index()\n",
    "\n",
    "# View table after resetting index to check\n",
    "DIM_property_type.head(5)"
   ]
  },
  {
   "cell_type": "code",
   "execution_count": null,
   "metadata": {},
   "outputs": [
    {
     "data": {
      "text/html": [
       "<div>\n",
       "<style scoped>\n",
       "    .dataframe tbody tr th:only-of-type {\n",
       "        vertical-align: middle;\n",
       "    }\n",
       "\n",
       "    .dataframe tbody tr th {\n",
       "        vertical-align: top;\n",
       "    }\n",
       "\n",
       "    .dataframe thead th {\n",
       "        text-align: right;\n",
       "    }\n",
       "</style>\n",
       "<table border=\"1\" class=\"dataframe\">\n",
       "  <thead>\n",
       "    <tr style=\"text-align: right;\">\n",
       "      <th></th>\n",
       "      <th>property_type_id</th>\n",
       "      <th>index</th>\n",
       "      <th>property_type</th>\n",
       "    </tr>\n",
       "  </thead>\n",
       "  <tbody>\n",
       "    <tr>\n",
       "      <th>0</th>\n",
       "      <td>0</td>\n",
       "      <td>0</td>\n",
       "      <td>T</td>\n",
       "    </tr>\n",
       "    <tr>\n",
       "      <th>1</th>\n",
       "      <td>1</td>\n",
       "      <td>1</td>\n",
       "      <td>S</td>\n",
       "    </tr>\n",
       "    <tr>\n",
       "      <th>2</th>\n",
       "      <td>2</td>\n",
       "      <td>2</td>\n",
       "      <td>F</td>\n",
       "    </tr>\n",
       "    <tr>\n",
       "      <th>3</th>\n",
       "      <td>3</td>\n",
       "      <td>4</td>\n",
       "      <td>D</td>\n",
       "    </tr>\n",
       "  </tbody>\n",
       "</table>\n",
       "</div>"
      ],
      "text/plain": [
       "   property_type_id  index property_type\n",
       "0                 0      0             T\n",
       "1                 1      1             S\n",
       "2                 2      2             F\n",
       "3                 3      4             D"
      ]
     },
     "execution_count": 258,
     "metadata": {},
     "output_type": "execute_result"
    }
   ],
   "source": [
    "# Renames index column to property_type_id\n",
    "DIM_property_type.rename(columns = {'level_0': 'property_type_id'}, inplace = True)\n",
    "\n",
    "# View table after renaming index to check\n",
    "DIM_property_type.head(5)"
   ]
  },
  {
   "cell_type": "code",
   "execution_count": 259,
   "metadata": {},
   "outputs": [],
   "source": [
    "# Adds missing option, though there is no row with other, it' still an option\n",
    "DIM_property_type.loc[4] = [4, '', 'O']"
   ]
  },
  {
   "cell_type": "code",
   "execution_count": 260,
   "metadata": {},
   "outputs": [
    {
     "data": {
      "text/html": [
       "<div>\n",
       "<style scoped>\n",
       "    .dataframe tbody tr th:only-of-type {\n",
       "        vertical-align: middle;\n",
       "    }\n",
       "\n",
       "    .dataframe tbody tr th {\n",
       "        vertical-align: top;\n",
       "    }\n",
       "\n",
       "    .dataframe thead th {\n",
       "        text-align: right;\n",
       "    }\n",
       "</style>\n",
       "<table border=\"1\" class=\"dataframe\">\n",
       "  <thead>\n",
       "    <tr style=\"text-align: right;\">\n",
       "      <th></th>\n",
       "      <th>property_type_id</th>\n",
       "      <th>index</th>\n",
       "      <th>property_type</th>\n",
       "    </tr>\n",
       "  </thead>\n",
       "  <tbody>\n",
       "    <tr>\n",
       "      <th>0</th>\n",
       "      <td>0</td>\n",
       "      <td>0</td>\n",
       "      <td>T</td>\n",
       "    </tr>\n",
       "    <tr>\n",
       "      <th>1</th>\n",
       "      <td>1</td>\n",
       "      <td>1</td>\n",
       "      <td>S</td>\n",
       "    </tr>\n",
       "    <tr>\n",
       "      <th>2</th>\n",
       "      <td>2</td>\n",
       "      <td>2</td>\n",
       "      <td>F</td>\n",
       "    </tr>\n",
       "    <tr>\n",
       "      <th>3</th>\n",
       "      <td>3</td>\n",
       "      <td>4</td>\n",
       "      <td>D</td>\n",
       "    </tr>\n",
       "    <tr>\n",
       "      <th>4</th>\n",
       "      <td>4</td>\n",
       "      <td></td>\n",
       "      <td>O</td>\n",
       "    </tr>\n",
       "  </tbody>\n",
       "</table>\n",
       "</div>"
      ],
      "text/plain": [
       "   property_type_id index property_type\n",
       "0                 0     0             T\n",
       "1                 1     1             S\n",
       "2                 2     2             F\n",
       "3                 3     4             D\n",
       "4                 4                   O"
      ]
     },
     "execution_count": 260,
     "metadata": {},
     "output_type": "execute_result"
    }
   ],
   "source": [
    "# View table adding the new row\n",
    "DIM_property_type.head(5)"
   ]
  },
  {
   "cell_type": "code",
   "execution_count": 261,
   "metadata": {},
   "outputs": [
    {
     "data": {
      "text/html": [
       "<div>\n",
       "<style scoped>\n",
       "    .dataframe tbody tr th:only-of-type {\n",
       "        vertical-align: middle;\n",
       "    }\n",
       "\n",
       "    .dataframe tbody tr th {\n",
       "        vertical-align: top;\n",
       "    }\n",
       "\n",
       "    .dataframe thead th {\n",
       "        text-align: right;\n",
       "    }\n",
       "</style>\n",
       "<table border=\"1\" class=\"dataframe\">\n",
       "  <thead>\n",
       "    <tr style=\"text-align: right;\">\n",
       "      <th></th>\n",
       "      <th>property_type_id</th>\n",
       "      <th>property_type</th>\n",
       "    </tr>\n",
       "  </thead>\n",
       "  <tbody>\n",
       "    <tr>\n",
       "      <th>0</th>\n",
       "      <td>0</td>\n",
       "      <td>T</td>\n",
       "    </tr>\n",
       "    <tr>\n",
       "      <th>1</th>\n",
       "      <td>1</td>\n",
       "      <td>S</td>\n",
       "    </tr>\n",
       "    <tr>\n",
       "      <th>2</th>\n",
       "      <td>2</td>\n",
       "      <td>F</td>\n",
       "    </tr>\n",
       "    <tr>\n",
       "      <th>3</th>\n",
       "      <td>3</td>\n",
       "      <td>D</td>\n",
       "    </tr>\n",
       "    <tr>\n",
       "      <th>4</th>\n",
       "      <td>4</td>\n",
       "      <td>O</td>\n",
       "    </tr>\n",
       "  </tbody>\n",
       "</table>\n",
       "</div>"
      ],
      "text/plain": [
       "   property_type_id property_type\n",
       "0                 0             T\n",
       "1                 1             S\n",
       "2                 2             F\n",
       "3                 3             D\n",
       "4                 4             O"
      ]
     },
     "execution_count": 261,
     "metadata": {},
     "output_type": "execute_result"
    }
   ],
   "source": [
    "# Drop the index column\n",
    "DIM_property_type = DIM_property_type.drop(columns = 'index')\n",
    "\n",
    "# View table to confirm as correct\n",
    "DIM_property_type.head(5)"
   ]
  },
  {
   "cell_type": "markdown",
   "metadata": {},
   "source": [
    "### FACT_price_paid (Link to DIM_property_type)\n",
    "\n",
    "We will now begin work on the FACT table by linking the FACT and DIM table using a common ID"
   ]
  },
  {
   "cell_type": "code",
   "execution_count": 262,
   "metadata": {},
   "outputs": [
    {
     "data": {
      "text/html": [
       "<div>\n",
       "<style scoped>\n",
       "    .dataframe tbody tr th:only-of-type {\n",
       "        vertical-align: middle;\n",
       "    }\n",
       "\n",
       "    .dataframe tbody tr th {\n",
       "        vertical-align: top;\n",
       "    }\n",
       "\n",
       "    .dataframe thead th {\n",
       "        text-align: right;\n",
       "    }\n",
       "</style>\n",
       "<table border=\"1\" class=\"dataframe\">\n",
       "  <thead>\n",
       "    <tr style=\"text-align: right;\">\n",
       "      <th></th>\n",
       "      <th>transaction_id</th>\n",
       "      <th>price</th>\n",
       "      <th>property_type</th>\n",
       "      <th>old_or_new</th>\n",
       "      <th>duration</th>\n",
       "      <th>date_of_transfer_id</th>\n",
       "      <th>location_id</th>\n",
       "    </tr>\n",
       "  </thead>\n",
       "  <tbody>\n",
       "    <tr>\n",
       "      <th>0</th>\n",
       "      <td>{726BF13A-993E-0A46-E053-6C04A8C01D0D}</td>\n",
       "      <td>75000</td>\n",
       "      <td>T</td>\n",
       "      <td>N</td>\n",
       "      <td>F</td>\n",
       "      <td>170</td>\n",
       "      <td>0</td>\n",
       "    </tr>\n",
       "  </tbody>\n",
       "</table>\n",
       "</div>"
      ],
      "text/plain": [
       "                           transaction_id  price property_type old_or_new  \\\n",
       "0  {726BF13A-993E-0A46-E053-6C04A8C01D0D}  75000             T          N   \n",
       "\n",
       "  duration  date_of_transfer_id  location_id  \n",
       "0        F                  170            0  "
      ]
     },
     "execution_count": 262,
     "metadata": {},
     "output_type": "execute_result"
    }
   ],
   "source": [
    "# Inspect FACT table\n",
    "FACT_price_paid.head(1)"
   ]
  },
  {
   "cell_type": "code",
   "execution_count": 263,
   "metadata": {},
   "outputs": [],
   "source": [
    "# Merge the Dataframes\n",
    "FACT_price_paid = pd.merge(FACT_price_paid, DIM_property_type, on = 'property_type', how = 'left')"
   ]
  },
  {
   "cell_type": "code",
   "execution_count": null,
   "metadata": {},
   "outputs": [
    {
     "data": {
      "text/html": [
       "<div>\n",
       "<style scoped>\n",
       "    .dataframe tbody tr th:only-of-type {\n",
       "        vertical-align: middle;\n",
       "    }\n",
       "\n",
       "    .dataframe tbody tr th {\n",
       "        vertical-align: top;\n",
       "    }\n",
       "\n",
       "    .dataframe thead th {\n",
       "        text-align: right;\n",
       "    }\n",
       "</style>\n",
       "<table border=\"1\" class=\"dataframe\">\n",
       "  <thead>\n",
       "    <tr style=\"text-align: right;\">\n",
       "      <th></th>\n",
       "      <th>transaction_id</th>\n",
       "      <th>price</th>\n",
       "      <th>property_type</th>\n",
       "      <th>old_or_new</th>\n",
       "      <th>duration</th>\n",
       "      <th>date_of_transfer_id</th>\n",
       "      <th>location_id</th>\n",
       "      <th>property_type_id</th>\n",
       "    </tr>\n",
       "  </thead>\n",
       "  <tbody>\n",
       "    <tr>\n",
       "      <th>0</th>\n",
       "      <td>{726BF13A-993E-0A46-E053-6C04A8C01D0D}</td>\n",
       "      <td>75000</td>\n",
       "      <td>T</td>\n",
       "      <td>N</td>\n",
       "      <td>F</td>\n",
       "      <td>170</td>\n",
       "      <td>0</td>\n",
       "      <td>0</td>\n",
       "    </tr>\n",
       "    <tr>\n",
       "      <th>1</th>\n",
       "      <td>{726BF13A-993F-0A46-E053-6C04A8C01D0D}</td>\n",
       "      <td>115000</td>\n",
       "      <td>S</td>\n",
       "      <td>N</td>\n",
       "      <td>F</td>\n",
       "      <td>193</td>\n",
       "      <td>1</td>\n",
       "      <td>1</td>\n",
       "    </tr>\n",
       "    <tr>\n",
       "      <th>2</th>\n",
       "      <td>{726BF13A-9940-0A46-E053-6C04A8C01D0D}</td>\n",
       "      <td>24000</td>\n",
       "      <td>F</td>\n",
       "      <td>N</td>\n",
       "      <td>L</td>\n",
       "      <td>99</td>\n",
       "      <td>2</td>\n",
       "      <td>2</td>\n",
       "    </tr>\n",
       "    <tr>\n",
       "      <th>3</th>\n",
       "      <td>{726BF13A-9941-0A46-E053-6C04A8C01D0D}</td>\n",
       "      <td>56000</td>\n",
       "      <td>T</td>\n",
       "      <td>N</td>\n",
       "      <td>F</td>\n",
       "      <td>172</td>\n",
       "      <td>3</td>\n",
       "      <td>0</td>\n",
       "    </tr>\n",
       "    <tr>\n",
       "      <th>4</th>\n",
       "      <td>{726BF13A-9942-0A46-E053-6C04A8C01D0D}</td>\n",
       "      <td>220000</td>\n",
       "      <td>D</td>\n",
       "      <td>N</td>\n",
       "      <td>F</td>\n",
       "      <td>144</td>\n",
       "      <td>4</td>\n",
       "      <td>3</td>\n",
       "    </tr>\n",
       "  </tbody>\n",
       "</table>\n",
       "</div>"
      ],
      "text/plain": [
       "                           transaction_id   price property_type old_or_new  \\\n",
       "0  {726BF13A-993E-0A46-E053-6C04A8C01D0D}   75000             T          N   \n",
       "1  {726BF13A-993F-0A46-E053-6C04A8C01D0D}  115000             S          N   \n",
       "2  {726BF13A-9940-0A46-E053-6C04A8C01D0D}   24000             F          N   \n",
       "3  {726BF13A-9941-0A46-E053-6C04A8C01D0D}   56000             T          N   \n",
       "4  {726BF13A-9942-0A46-E053-6C04A8C01D0D}  220000             D          N   \n",
       "\n",
       "  duration  date_of_transfer_id  location_id  property_type_id  \n",
       "0        F                  170            0                 0  \n",
       "1        F                  193            1                 1  \n",
       "2        L                   99            2                 2  \n",
       "3        F                  172            3                 0  \n",
       "4        F                  144            4                 3  "
      ]
     },
     "execution_count": 265,
     "metadata": {},
     "output_type": "execute_result"
    }
   ],
   "source": [
    "# Inspect FACT table, confirm IDs are mapped correctly\n",
    "FACT_price_paid.head(5)"
   ]
  },
  {
   "cell_type": "code",
   "execution_count": 266,
   "metadata": {},
   "outputs": [],
   "source": [
    "# Drop the property_type column now that their corresponding ID is in FACT table\n",
    "FACT_price_paid = FACT_price_paid.drop(columns = 'property_type')"
   ]
  },
  {
   "cell_type": "code",
   "execution_count": 267,
   "metadata": {},
   "outputs": [
    {
     "data": {
      "text/html": [
       "<div>\n",
       "<style scoped>\n",
       "    .dataframe tbody tr th:only-of-type {\n",
       "        vertical-align: middle;\n",
       "    }\n",
       "\n",
       "    .dataframe tbody tr th {\n",
       "        vertical-align: top;\n",
       "    }\n",
       "\n",
       "    .dataframe thead th {\n",
       "        text-align: right;\n",
       "    }\n",
       "</style>\n",
       "<table border=\"1\" class=\"dataframe\">\n",
       "  <thead>\n",
       "    <tr style=\"text-align: right;\">\n",
       "      <th></th>\n",
       "      <th>transaction_id</th>\n",
       "      <th>price</th>\n",
       "      <th>old_or_new</th>\n",
       "      <th>duration</th>\n",
       "      <th>date_of_transfer_id</th>\n",
       "      <th>location_id</th>\n",
       "      <th>property_type_id</th>\n",
       "    </tr>\n",
       "  </thead>\n",
       "  <tbody>\n",
       "    <tr>\n",
       "      <th>0</th>\n",
       "      <td>{726BF13A-993E-0A46-E053-6C04A8C01D0D}</td>\n",
       "      <td>75000</td>\n",
       "      <td>N</td>\n",
       "      <td>F</td>\n",
       "      <td>170</td>\n",
       "      <td>0</td>\n",
       "      <td>0</td>\n",
       "    </tr>\n",
       "  </tbody>\n",
       "</table>\n",
       "</div>"
      ],
      "text/plain": [
       "                           transaction_id  price old_or_new duration  \\\n",
       "0  {726BF13A-993E-0A46-E053-6C04A8C01D0D}  75000          N        F   \n",
       "\n",
       "   date_of_transfer_id  location_id  property_type_id  \n",
       "0                  170            0                 0  "
      ]
     },
     "execution_count": 267,
     "metadata": {},
     "output_type": "execute_result"
    }
   ],
   "source": [
    "# Inspect FACT table\n",
    "FACT_price_paid.head(1)"
   ]
  },
  {
   "cell_type": "markdown",
   "metadata": {},
   "source": [
    "### DIM_old_or_new\n",
    "\n",
    "Facilitates comparisons between new and old properties:"
   ]
  },
  {
   "cell_type": "code",
   "execution_count": 268,
   "metadata": {},
   "outputs": [],
   "source": [
    "# Extract only the distinct combinations of the location columns\n",
    "DIM_old_or_new = FACT_price_paid['old_or_new'].drop_duplicates()"
   ]
  },
  {
   "cell_type": "code",
   "execution_count": null,
   "metadata": {},
   "outputs": [
    {
     "data": {
      "text/plain": [
       "0      N\n",
       "118    Y\n",
       "Name: old_or_new, dtype: object"
      ]
     },
     "execution_count": 269,
     "metadata": {},
     "output_type": "execute_result"
    }
   ],
   "source": [
    "# Inspect new dim table\n",
    "DIM_old_or_new.head()"
   ]
  },
  {
   "cell_type": "code",
   "execution_count": null,
   "metadata": {},
   "outputs": [
    {
     "data": {
      "text/html": [
       "<div>\n",
       "<style scoped>\n",
       "    .dataframe tbody tr th:only-of-type {\n",
       "        vertical-align: middle;\n",
       "    }\n",
       "\n",
       "    .dataframe tbody tr th {\n",
       "        vertical-align: top;\n",
       "    }\n",
       "\n",
       "    .dataframe thead th {\n",
       "        text-align: right;\n",
       "    }\n",
       "</style>\n",
       "<table border=\"1\" class=\"dataframe\">\n",
       "  <thead>\n",
       "    <tr style=\"text-align: right;\">\n",
       "      <th></th>\n",
       "      <th>level_0</th>\n",
       "      <th>index</th>\n",
       "      <th>old_or_new</th>\n",
       "    </tr>\n",
       "  </thead>\n",
       "  <tbody>\n",
       "    <tr>\n",
       "      <th>0</th>\n",
       "      <td>0</td>\n",
       "      <td>0</td>\n",
       "      <td>N</td>\n",
       "    </tr>\n",
       "    <tr>\n",
       "      <th>1</th>\n",
       "      <td>1</td>\n",
       "      <td>118</td>\n",
       "      <td>Y</td>\n",
       "    </tr>\n",
       "  </tbody>\n",
       "</table>\n",
       "</div>"
      ],
      "text/plain": [
       "   level_0  index old_or_new\n",
       "0        0      0          N\n",
       "1        1    118          Y"
      ]
     },
     "execution_count": 270,
     "metadata": {},
     "output_type": "execute_result"
    }
   ],
   "source": [
    "# Gives us an index column \n",
    "DIM_old_or_new = DIM_old_or_new.reset_index()\n",
    "\n",
    "# Gives us an index column again so no index skip between 0 and 118\n",
    "DIM_old_or_new = DIM_old_or_new.reset_index()\n",
    "\n",
    "# View table after resetting index to check\n",
    "DIM_old_or_new.head()"
   ]
  },
  {
   "cell_type": "code",
   "execution_count": 271,
   "metadata": {},
   "outputs": [
    {
     "data": {
      "text/html": [
       "<div>\n",
       "<style scoped>\n",
       "    .dataframe tbody tr th:only-of-type {\n",
       "        vertical-align: middle;\n",
       "    }\n",
       "\n",
       "    .dataframe tbody tr th {\n",
       "        vertical-align: top;\n",
       "    }\n",
       "\n",
       "    .dataframe thead th {\n",
       "        text-align: right;\n",
       "    }\n",
       "</style>\n",
       "<table border=\"1\" class=\"dataframe\">\n",
       "  <thead>\n",
       "    <tr style=\"text-align: right;\">\n",
       "      <th></th>\n",
       "      <th>old_or_new_id</th>\n",
       "      <th>old_or_new</th>\n",
       "    </tr>\n",
       "  </thead>\n",
       "  <tbody>\n",
       "    <tr>\n",
       "      <th>0</th>\n",
       "      <td>0</td>\n",
       "      <td>N</td>\n",
       "    </tr>\n",
       "    <tr>\n",
       "      <th>1</th>\n",
       "      <td>1</td>\n",
       "      <td>Y</td>\n",
       "    </tr>\n",
       "  </tbody>\n",
       "</table>\n",
       "</div>"
      ],
      "text/plain": [
       "   old_or_new_id old_or_new\n",
       "0              0          N\n",
       "1              1          Y"
      ]
     },
     "execution_count": 271,
     "metadata": {},
     "output_type": "execute_result"
    }
   ],
   "source": [
    "# Renames level_0 column to old_or_new_id\n",
    "DIM_old_or_new.rename(columns = {'level_0': 'old_or_new_id'}, inplace = True)\n",
    "\n",
    "# Drop the index column\n",
    "DIM_old_or_new = DIM_old_or_new.drop(columns = 'index')\n",
    "\n",
    "# View table to confirm as correct\n",
    "DIM_old_or_new.head()"
   ]
  },
  {
   "cell_type": "markdown",
   "metadata": {},
   "source": [
    "### FACT_price_paid (Link to DIM_old_or_new)\n",
    "\n",
    "We will now begin work on the FACT table by linking the FACT and DIM table using a common ID"
   ]
  },
  {
   "cell_type": "code",
   "execution_count": 272,
   "metadata": {},
   "outputs": [
    {
     "data": {
      "text/html": [
       "<div>\n",
       "<style scoped>\n",
       "    .dataframe tbody tr th:only-of-type {\n",
       "        vertical-align: middle;\n",
       "    }\n",
       "\n",
       "    .dataframe tbody tr th {\n",
       "        vertical-align: top;\n",
       "    }\n",
       "\n",
       "    .dataframe thead th {\n",
       "        text-align: right;\n",
       "    }\n",
       "</style>\n",
       "<table border=\"1\" class=\"dataframe\">\n",
       "  <thead>\n",
       "    <tr style=\"text-align: right;\">\n",
       "      <th></th>\n",
       "      <th>transaction_id</th>\n",
       "      <th>price</th>\n",
       "      <th>old_or_new</th>\n",
       "      <th>duration</th>\n",
       "      <th>date_of_transfer_id</th>\n",
       "      <th>location_id</th>\n",
       "      <th>property_type_id</th>\n",
       "    </tr>\n",
       "  </thead>\n",
       "  <tbody>\n",
       "    <tr>\n",
       "      <th>0</th>\n",
       "      <td>{726BF13A-993E-0A46-E053-6C04A8C01D0D}</td>\n",
       "      <td>75000</td>\n",
       "      <td>N</td>\n",
       "      <td>F</td>\n",
       "      <td>170</td>\n",
       "      <td>0</td>\n",
       "      <td>0</td>\n",
       "    </tr>\n",
       "  </tbody>\n",
       "</table>\n",
       "</div>"
      ],
      "text/plain": [
       "                           transaction_id  price old_or_new duration  \\\n",
       "0  {726BF13A-993E-0A46-E053-6C04A8C01D0D}  75000          N        F   \n",
       "\n",
       "   date_of_transfer_id  location_id  property_type_id  \n",
       "0                  170            0                 0  "
      ]
     },
     "execution_count": 272,
     "metadata": {},
     "output_type": "execute_result"
    }
   ],
   "source": [
    "# Inspect FACT table\n",
    "FACT_price_paid.head(1)"
   ]
  },
  {
   "cell_type": "code",
   "execution_count": 273,
   "metadata": {},
   "outputs": [],
   "source": [
    "# Merge the Dataframes\n",
    "FACT_price_paid = pd.merge(FACT_price_paid, DIM_old_or_new, on = 'old_or_new', how = 'left')"
   ]
  },
  {
   "cell_type": "code",
   "execution_count": 280,
   "metadata": {},
   "outputs": [
    {
     "data": {
      "text/html": [
       "<div>\n",
       "<style scoped>\n",
       "    .dataframe tbody tr th:only-of-type {\n",
       "        vertical-align: middle;\n",
       "    }\n",
       "\n",
       "    .dataframe tbody tr th {\n",
       "        vertical-align: top;\n",
       "    }\n",
       "\n",
       "    .dataframe thead th {\n",
       "        text-align: right;\n",
       "    }\n",
       "</style>\n",
       "<table border=\"1\" class=\"dataframe\">\n",
       "  <thead>\n",
       "    <tr style=\"text-align: right;\">\n",
       "      <th></th>\n",
       "      <th>transaction_id</th>\n",
       "      <th>price</th>\n",
       "      <th>duration</th>\n",
       "      <th>date_of_transfer_id</th>\n",
       "      <th>location_id</th>\n",
       "      <th>property_type_id</th>\n",
       "      <th>old_or_new_id</th>\n",
       "    </tr>\n",
       "  </thead>\n",
       "  <tbody>\n",
       "    <tr>\n",
       "      <th>0</th>\n",
       "      <td>{726BF13A-993E-0A46-E053-6C04A8C01D0D}</td>\n",
       "      <td>75000</td>\n",
       "      <td>F</td>\n",
       "      <td>170</td>\n",
       "      <td>0</td>\n",
       "      <td>0</td>\n",
       "      <td>0</td>\n",
       "    </tr>\n",
       "    <tr>\n",
       "      <th>1</th>\n",
       "      <td>{726BF13A-993F-0A46-E053-6C04A8C01D0D}</td>\n",
       "      <td>115000</td>\n",
       "      <td>F</td>\n",
       "      <td>193</td>\n",
       "      <td>1</td>\n",
       "      <td>1</td>\n",
       "      <td>0</td>\n",
       "    </tr>\n",
       "    <tr>\n",
       "      <th>2</th>\n",
       "      <td>{726BF13A-9940-0A46-E053-6C04A8C01D0D}</td>\n",
       "      <td>24000</td>\n",
       "      <td>L</td>\n",
       "      <td>99</td>\n",
       "      <td>2</td>\n",
       "      <td>2</td>\n",
       "      <td>0</td>\n",
       "    </tr>\n",
       "    <tr>\n",
       "      <th>3</th>\n",
       "      <td>{726BF13A-9941-0A46-E053-6C04A8C01D0D}</td>\n",
       "      <td>56000</td>\n",
       "      <td>F</td>\n",
       "      <td>172</td>\n",
       "      <td>3</td>\n",
       "      <td>0</td>\n",
       "      <td>0</td>\n",
       "    </tr>\n",
       "    <tr>\n",
       "      <th>4</th>\n",
       "      <td>{726BF13A-9942-0A46-E053-6C04A8C01D0D}</td>\n",
       "      <td>220000</td>\n",
       "      <td>F</td>\n",
       "      <td>144</td>\n",
       "      <td>4</td>\n",
       "      <td>3</td>\n",
       "      <td>0</td>\n",
       "    </tr>\n",
       "  </tbody>\n",
       "</table>\n",
       "</div>"
      ],
      "text/plain": [
       "                           transaction_id   price duration  \\\n",
       "0  {726BF13A-993E-0A46-E053-6C04A8C01D0D}   75000        F   \n",
       "1  {726BF13A-993F-0A46-E053-6C04A8C01D0D}  115000        F   \n",
       "2  {726BF13A-9940-0A46-E053-6C04A8C01D0D}   24000        L   \n",
       "3  {726BF13A-9941-0A46-E053-6C04A8C01D0D}   56000        F   \n",
       "4  {726BF13A-9942-0A46-E053-6C04A8C01D0D}  220000        F   \n",
       "\n",
       "   date_of_transfer_id  location_id  property_type_id  old_or_new_id  \n",
       "0                  170            0                 0              0  \n",
       "1                  193            1                 1              0  \n",
       "2                   99            2                 2              0  \n",
       "3                  172            3                 0              0  \n",
       "4                  144            4                 3              0  "
      ]
     },
     "execution_count": 280,
     "metadata": {},
     "output_type": "execute_result"
    }
   ],
   "source": [
    "# Inspect FACT table, confirm IDs are mapped correctly\n",
    "FACT_price_paid.head()"
   ]
  },
  {
   "cell_type": "code",
   "execution_count": null,
   "metadata": {},
   "outputs": [],
   "source": [
    "# Drop the old_or_new column now that their corresponding ID is in FACT table\n",
    "FACT_price_paid = FACT_price_paid.drop(columns = 'old_or_new')"
   ]
  },
  {
   "cell_type": "code",
   "execution_count": 279,
   "metadata": {},
   "outputs": [
    {
     "data": {
      "text/html": [
       "<div>\n",
       "<style scoped>\n",
       "    .dataframe tbody tr th:only-of-type {\n",
       "        vertical-align: middle;\n",
       "    }\n",
       "\n",
       "    .dataframe tbody tr th {\n",
       "        vertical-align: top;\n",
       "    }\n",
       "\n",
       "    .dataframe thead th {\n",
       "        text-align: right;\n",
       "    }\n",
       "</style>\n",
       "<table border=\"1\" class=\"dataframe\">\n",
       "  <thead>\n",
       "    <tr style=\"text-align: right;\">\n",
       "      <th></th>\n",
       "      <th>transaction_id</th>\n",
       "      <th>price</th>\n",
       "      <th>duration</th>\n",
       "      <th>date_of_transfer_id</th>\n",
       "      <th>location_id</th>\n",
       "      <th>property_type_id</th>\n",
       "      <th>old_or_new_id</th>\n",
       "    </tr>\n",
       "  </thead>\n",
       "  <tbody>\n",
       "    <tr>\n",
       "      <th>0</th>\n",
       "      <td>{726BF13A-993E-0A46-E053-6C04A8C01D0D}</td>\n",
       "      <td>75000</td>\n",
       "      <td>F</td>\n",
       "      <td>170</td>\n",
       "      <td>0</td>\n",
       "      <td>0</td>\n",
       "      <td>0</td>\n",
       "    </tr>\n",
       "  </tbody>\n",
       "</table>\n",
       "</div>"
      ],
      "text/plain": [
       "                           transaction_id  price duration  \\\n",
       "0  {726BF13A-993E-0A46-E053-6C04A8C01D0D}  75000        F   \n",
       "\n",
       "   date_of_transfer_id  location_id  property_type_id  old_or_new_id  \n",
       "0                  170            0                 0              0  "
      ]
     },
     "execution_count": 279,
     "metadata": {},
     "output_type": "execute_result"
    }
   ],
   "source": [
    "# Inspect FACT table\n",
    "FACT_price_paid.head(1)"
   ]
  },
  {
   "cell_type": "markdown",
   "metadata": {},
   "source": [
    "### DIM_duration\n",
    "\n",
    "Allows analysis of Freehold vs. Leasehold pricing differences:"
   ]
  },
  {
   "cell_type": "code",
   "execution_count": 281,
   "metadata": {},
   "outputs": [],
   "source": [
    "# Extract only the distinct combinations of the location columns\n",
    "DIM_duration = FACT_price_paid['duration'].drop_duplicates()"
   ]
  },
  {
   "cell_type": "code",
   "execution_count": 282,
   "metadata": {},
   "outputs": [
    {
     "data": {
      "text/plain": [
       "0    F\n",
       "2    L\n",
       "Name: duration, dtype: object"
      ]
     },
     "execution_count": 282,
     "metadata": {},
     "output_type": "execute_result"
    }
   ],
   "source": [
    "# Inspect new dim table\n",
    "DIM_duration.head()"
   ]
  },
  {
   "cell_type": "code",
   "execution_count": 283,
   "metadata": {},
   "outputs": [
    {
     "data": {
      "text/html": [
       "<div>\n",
       "<style scoped>\n",
       "    .dataframe tbody tr th:only-of-type {\n",
       "        vertical-align: middle;\n",
       "    }\n",
       "\n",
       "    .dataframe tbody tr th {\n",
       "        vertical-align: top;\n",
       "    }\n",
       "\n",
       "    .dataframe thead th {\n",
       "        text-align: right;\n",
       "    }\n",
       "</style>\n",
       "<table border=\"1\" class=\"dataframe\">\n",
       "  <thead>\n",
       "    <tr style=\"text-align: right;\">\n",
       "      <th></th>\n",
       "      <th>level_0</th>\n",
       "      <th>index</th>\n",
       "      <th>duration</th>\n",
       "    </tr>\n",
       "  </thead>\n",
       "  <tbody>\n",
       "    <tr>\n",
       "      <th>0</th>\n",
       "      <td>0</td>\n",
       "      <td>0</td>\n",
       "      <td>F</td>\n",
       "    </tr>\n",
       "    <tr>\n",
       "      <th>1</th>\n",
       "      <td>1</td>\n",
       "      <td>2</td>\n",
       "      <td>L</td>\n",
       "    </tr>\n",
       "  </tbody>\n",
       "</table>\n",
       "</div>"
      ],
      "text/plain": [
       "   level_0  index duration\n",
       "0        0      0        F\n",
       "1        1      2        L"
      ]
     },
     "execution_count": 283,
     "metadata": {},
     "output_type": "execute_result"
    }
   ],
   "source": [
    "# Gives us an index column \n",
    "DIM_duration = DIM_duration.reset_index()\n",
    "\n",
    "# Gives us an index column again so no index skip between 0 and 2\n",
    "DIM_duration = DIM_duration.reset_index()\n",
    "\n",
    "# View table after resetting index to check\n",
    "DIM_duration.head()"
   ]
  },
  {
   "cell_type": "code",
   "execution_count": 284,
   "metadata": {},
   "outputs": [
    {
     "data": {
      "text/html": [
       "<div>\n",
       "<style scoped>\n",
       "    .dataframe tbody tr th:only-of-type {\n",
       "        vertical-align: middle;\n",
       "    }\n",
       "\n",
       "    .dataframe tbody tr th {\n",
       "        vertical-align: top;\n",
       "    }\n",
       "\n",
       "    .dataframe thead th {\n",
       "        text-align: right;\n",
       "    }\n",
       "</style>\n",
       "<table border=\"1\" class=\"dataframe\">\n",
       "  <thead>\n",
       "    <tr style=\"text-align: right;\">\n",
       "      <th></th>\n",
       "      <th>duration_id</th>\n",
       "      <th>duration</th>\n",
       "    </tr>\n",
       "  </thead>\n",
       "  <tbody>\n",
       "    <tr>\n",
       "      <th>0</th>\n",
       "      <td>0</td>\n",
       "      <td>F</td>\n",
       "    </tr>\n",
       "    <tr>\n",
       "      <th>1</th>\n",
       "      <td>1</td>\n",
       "      <td>L</td>\n",
       "    </tr>\n",
       "  </tbody>\n",
       "</table>\n",
       "</div>"
      ],
      "text/plain": [
       "   duration_id duration\n",
       "0            0        F\n",
       "1            1        L"
      ]
     },
     "execution_count": 284,
     "metadata": {},
     "output_type": "execute_result"
    }
   ],
   "source": [
    "# Renames level_0 column to duration_id\n",
    "DIM_duration.rename(columns = {'level_0': 'duration_id'}, inplace = True)\n",
    "\n",
    "# Drop the index column\n",
    "DIM_duration = DIM_duration.drop(columns = 'index')\n",
    "\n",
    "# View table to confirm as correct\n",
    "DIM_duration.head()"
   ]
  },
  {
   "cell_type": "markdown",
   "metadata": {},
   "source": [
    "### FACT_price_paid (Link to DIM_duration)\n",
    "\n",
    "We will now begin work on the FACT table by linking the FACT and DIM table using a common ID"
   ]
  },
  {
   "cell_type": "code",
   "execution_count": 285,
   "metadata": {},
   "outputs": [
    {
     "data": {
      "text/html": [
       "<div>\n",
       "<style scoped>\n",
       "    .dataframe tbody tr th:only-of-type {\n",
       "        vertical-align: middle;\n",
       "    }\n",
       "\n",
       "    .dataframe tbody tr th {\n",
       "        vertical-align: top;\n",
       "    }\n",
       "\n",
       "    .dataframe thead th {\n",
       "        text-align: right;\n",
       "    }\n",
       "</style>\n",
       "<table border=\"1\" class=\"dataframe\">\n",
       "  <thead>\n",
       "    <tr style=\"text-align: right;\">\n",
       "      <th></th>\n",
       "      <th>transaction_id</th>\n",
       "      <th>price</th>\n",
       "      <th>duration</th>\n",
       "      <th>date_of_transfer_id</th>\n",
       "      <th>location_id</th>\n",
       "      <th>property_type_id</th>\n",
       "      <th>old_or_new_id</th>\n",
       "    </tr>\n",
       "  </thead>\n",
       "  <tbody>\n",
       "    <tr>\n",
       "      <th>0</th>\n",
       "      <td>{726BF13A-993E-0A46-E053-6C04A8C01D0D}</td>\n",
       "      <td>75000</td>\n",
       "      <td>F</td>\n",
       "      <td>170</td>\n",
       "      <td>0</td>\n",
       "      <td>0</td>\n",
       "      <td>0</td>\n",
       "    </tr>\n",
       "  </tbody>\n",
       "</table>\n",
       "</div>"
      ],
      "text/plain": [
       "                           transaction_id  price duration  \\\n",
       "0  {726BF13A-993E-0A46-E053-6C04A8C01D0D}  75000        F   \n",
       "\n",
       "   date_of_transfer_id  location_id  property_type_id  old_or_new_id  \n",
       "0                  170            0                 0              0  "
      ]
     },
     "execution_count": 285,
     "metadata": {},
     "output_type": "execute_result"
    }
   ],
   "source": [
    "# Inspect FACT table\n",
    "FACT_price_paid.head(1)"
   ]
  },
  {
   "cell_type": "code",
   "execution_count": 286,
   "metadata": {},
   "outputs": [],
   "source": [
    "# Merge the Dataframes\n",
    "FACT_price_paid = pd.merge(FACT_price_paid, DIM_duration, on = 'duration', how = 'left')"
   ]
  },
  {
   "cell_type": "code",
   "execution_count": 287,
   "metadata": {},
   "outputs": [
    {
     "data": {
      "text/html": [
       "<div>\n",
       "<style scoped>\n",
       "    .dataframe tbody tr th:only-of-type {\n",
       "        vertical-align: middle;\n",
       "    }\n",
       "\n",
       "    .dataframe tbody tr th {\n",
       "        vertical-align: top;\n",
       "    }\n",
       "\n",
       "    .dataframe thead th {\n",
       "        text-align: right;\n",
       "    }\n",
       "</style>\n",
       "<table border=\"1\" class=\"dataframe\">\n",
       "  <thead>\n",
       "    <tr style=\"text-align: right;\">\n",
       "      <th></th>\n",
       "      <th>transaction_id</th>\n",
       "      <th>price</th>\n",
       "      <th>duration</th>\n",
       "      <th>date_of_transfer_id</th>\n",
       "      <th>location_id</th>\n",
       "      <th>property_type_id</th>\n",
       "      <th>old_or_new_id</th>\n",
       "      <th>duration_id</th>\n",
       "    </tr>\n",
       "  </thead>\n",
       "  <tbody>\n",
       "    <tr>\n",
       "      <th>0</th>\n",
       "      <td>{726BF13A-993E-0A46-E053-6C04A8C01D0D}</td>\n",
       "      <td>75000</td>\n",
       "      <td>F</td>\n",
       "      <td>170</td>\n",
       "      <td>0</td>\n",
       "      <td>0</td>\n",
       "      <td>0</td>\n",
       "      <td>0</td>\n",
       "    </tr>\n",
       "    <tr>\n",
       "      <th>1</th>\n",
       "      <td>{726BF13A-993F-0A46-E053-6C04A8C01D0D}</td>\n",
       "      <td>115000</td>\n",
       "      <td>F</td>\n",
       "      <td>193</td>\n",
       "      <td>1</td>\n",
       "      <td>1</td>\n",
       "      <td>0</td>\n",
       "      <td>0</td>\n",
       "    </tr>\n",
       "    <tr>\n",
       "      <th>2</th>\n",
       "      <td>{726BF13A-9940-0A46-E053-6C04A8C01D0D}</td>\n",
       "      <td>24000</td>\n",
       "      <td>L</td>\n",
       "      <td>99</td>\n",
       "      <td>2</td>\n",
       "      <td>2</td>\n",
       "      <td>0</td>\n",
       "      <td>1</td>\n",
       "    </tr>\n",
       "    <tr>\n",
       "      <th>3</th>\n",
       "      <td>{726BF13A-9941-0A46-E053-6C04A8C01D0D}</td>\n",
       "      <td>56000</td>\n",
       "      <td>F</td>\n",
       "      <td>172</td>\n",
       "      <td>3</td>\n",
       "      <td>0</td>\n",
       "      <td>0</td>\n",
       "      <td>0</td>\n",
       "    </tr>\n",
       "    <tr>\n",
       "      <th>4</th>\n",
       "      <td>{726BF13A-9942-0A46-E053-6C04A8C01D0D}</td>\n",
       "      <td>220000</td>\n",
       "      <td>F</td>\n",
       "      <td>144</td>\n",
       "      <td>4</td>\n",
       "      <td>3</td>\n",
       "      <td>0</td>\n",
       "      <td>0</td>\n",
       "    </tr>\n",
       "  </tbody>\n",
       "</table>\n",
       "</div>"
      ],
      "text/plain": [
       "                           transaction_id   price duration  \\\n",
       "0  {726BF13A-993E-0A46-E053-6C04A8C01D0D}   75000        F   \n",
       "1  {726BF13A-993F-0A46-E053-6C04A8C01D0D}  115000        F   \n",
       "2  {726BF13A-9940-0A46-E053-6C04A8C01D0D}   24000        L   \n",
       "3  {726BF13A-9941-0A46-E053-6C04A8C01D0D}   56000        F   \n",
       "4  {726BF13A-9942-0A46-E053-6C04A8C01D0D}  220000        F   \n",
       "\n",
       "   date_of_transfer_id  location_id  property_type_id  old_or_new_id  \\\n",
       "0                  170            0                 0              0   \n",
       "1                  193            1                 1              0   \n",
       "2                   99            2                 2              0   \n",
       "3                  172            3                 0              0   \n",
       "4                  144            4                 3              0   \n",
       "\n",
       "   duration_id  \n",
       "0            0  \n",
       "1            0  \n",
       "2            1  \n",
       "3            0  \n",
       "4            0  "
      ]
     },
     "execution_count": 287,
     "metadata": {},
     "output_type": "execute_result"
    }
   ],
   "source": [
    "# Inspect FACT table, confirm IDs are mapped correctly\n",
    "FACT_price_paid.head()"
   ]
  },
  {
   "cell_type": "code",
   "execution_count": null,
   "metadata": {},
   "outputs": [],
   "source": [
    "# Drop the duration column now that their corresponding ID is in FACT table\n",
    "FACT_price_paid = FACT_price_paid.drop(columns = 'duration')"
   ]
  },
  {
   "cell_type": "code",
   "execution_count": 289,
   "metadata": {},
   "outputs": [
    {
     "data": {
      "text/html": [
       "<div>\n",
       "<style scoped>\n",
       "    .dataframe tbody tr th:only-of-type {\n",
       "        vertical-align: middle;\n",
       "    }\n",
       "\n",
       "    .dataframe tbody tr th {\n",
       "        vertical-align: top;\n",
       "    }\n",
       "\n",
       "    .dataframe thead th {\n",
       "        text-align: right;\n",
       "    }\n",
       "</style>\n",
       "<table border=\"1\" class=\"dataframe\">\n",
       "  <thead>\n",
       "    <tr style=\"text-align: right;\">\n",
       "      <th></th>\n",
       "      <th>transaction_id</th>\n",
       "      <th>price</th>\n",
       "      <th>date_of_transfer_id</th>\n",
       "      <th>location_id</th>\n",
       "      <th>property_type_id</th>\n",
       "      <th>old_or_new_id</th>\n",
       "      <th>duration_id</th>\n",
       "    </tr>\n",
       "  </thead>\n",
       "  <tbody>\n",
       "    <tr>\n",
       "      <th>0</th>\n",
       "      <td>{726BF13A-993E-0A46-E053-6C04A8C01D0D}</td>\n",
       "      <td>75000</td>\n",
       "      <td>170</td>\n",
       "      <td>0</td>\n",
       "      <td>0</td>\n",
       "      <td>0</td>\n",
       "      <td>0</td>\n",
       "    </tr>\n",
       "  </tbody>\n",
       "</table>\n",
       "</div>"
      ],
      "text/plain": [
       "                           transaction_id  price  date_of_transfer_id  \\\n",
       "0  {726BF13A-993E-0A46-E053-6C04A8C01D0D}  75000                  170   \n",
       "\n",
       "   location_id  property_type_id  old_or_new_id  duration_id  \n",
       "0            0                 0              0            0  "
      ]
     },
     "execution_count": 289,
     "metadata": {},
     "output_type": "execute_result"
    }
   ],
   "source": [
    "# Inspect FACT table\n",
    "FACT_price_paid.head(1)"
   ]
  },
  {
   "cell_type": "markdown",
   "metadata": {},
   "source": [
    "## Final Inspection\n",
    "\n",
    "Ensure columns and datatypes are correct.\n",
    "\n",
    "### FACT_price_paid"
   ]
  },
  {
   "cell_type": "code",
   "execution_count": null,
   "metadata": {},
   "outputs": [
    {
     "data": {
      "text/html": [
       "<div>\n",
       "<style scoped>\n",
       "    .dataframe tbody tr th:only-of-type {\n",
       "        vertical-align: middle;\n",
       "    }\n",
       "\n",
       "    .dataframe tbody tr th {\n",
       "        vertical-align: top;\n",
       "    }\n",
       "\n",
       "    .dataframe thead th {\n",
       "        text-align: right;\n",
       "    }\n",
       "</style>\n",
       "<table border=\"1\" class=\"dataframe\">\n",
       "  <thead>\n",
       "    <tr style=\"text-align: right;\">\n",
       "      <th></th>\n",
       "      <th>transaction_id</th>\n",
       "      <th>price</th>\n",
       "      <th>date_of_transfer_id</th>\n",
       "      <th>location_id</th>\n",
       "      <th>property_type_id</th>\n",
       "      <th>old_or_new_id</th>\n",
       "      <th>duration_id</th>\n",
       "    </tr>\n",
       "  </thead>\n",
       "  <tbody>\n",
       "    <tr>\n",
       "      <th>0</th>\n",
       "      <td>{726BF13A-993E-0A46-E053-6C04A8C01D0D}</td>\n",
       "      <td>75000</td>\n",
       "      <td>170</td>\n",
       "      <td>0</td>\n",
       "      <td>0</td>\n",
       "      <td>0</td>\n",
       "      <td>0</td>\n",
       "    </tr>\n",
       "    <tr>\n",
       "      <th>1</th>\n",
       "      <td>{726BF13A-993F-0A46-E053-6C04A8C01D0D}</td>\n",
       "      <td>115000</td>\n",
       "      <td>193</td>\n",
       "      <td>1</td>\n",
       "      <td>1</td>\n",
       "      <td>0</td>\n",
       "      <td>0</td>\n",
       "    </tr>\n",
       "    <tr>\n",
       "      <th>2</th>\n",
       "      <td>{726BF13A-9940-0A46-E053-6C04A8C01D0D}</td>\n",
       "      <td>24000</td>\n",
       "      <td>99</td>\n",
       "      <td>2</td>\n",
       "      <td>2</td>\n",
       "      <td>0</td>\n",
       "      <td>1</td>\n",
       "    </tr>\n",
       "    <tr>\n",
       "      <th>3</th>\n",
       "      <td>{726BF13A-9941-0A46-E053-6C04A8C01D0D}</td>\n",
       "      <td>56000</td>\n",
       "      <td>172</td>\n",
       "      <td>3</td>\n",
       "      <td>0</td>\n",
       "      <td>0</td>\n",
       "      <td>0</td>\n",
       "    </tr>\n",
       "    <tr>\n",
       "      <th>4</th>\n",
       "      <td>{726BF13A-9942-0A46-E053-6C04A8C01D0D}</td>\n",
       "      <td>220000</td>\n",
       "      <td>144</td>\n",
       "      <td>4</td>\n",
       "      <td>3</td>\n",
       "      <td>0</td>\n",
       "      <td>0</td>\n",
       "    </tr>\n",
       "    <tr>\n",
       "      <th>...</th>\n",
       "      <td>...</td>\n",
       "      <td>...</td>\n",
       "      <td>...</td>\n",
       "      <td>...</td>\n",
       "      <td>...</td>\n",
       "      <td>...</td>\n",
       "      <td>...</td>\n",
       "    </tr>\n",
       "    <tr>\n",
       "      <th>5710652</th>\n",
       "      <td>{1EAE3DF6-F7A7-9EB1-E063-4704A8C09D02}</td>\n",
       "      <td>505000</td>\n",
       "      <td>2300</td>\n",
       "      <td>1332756</td>\n",
       "      <td>3</td>\n",
       "      <td>0</td>\n",
       "      <td>0</td>\n",
       "    </tr>\n",
       "    <tr>\n",
       "      <th>5710653</th>\n",
       "      <td>{1EAE3DF6-F7A8-9EB1-E063-4704A8C09D02}</td>\n",
       "      <td>260000</td>\n",
       "      <td>2271</td>\n",
       "      <td>101607</td>\n",
       "      <td>3</td>\n",
       "      <td>0</td>\n",
       "      <td>0</td>\n",
       "    </tr>\n",
       "    <tr>\n",
       "      <th>5710654</th>\n",
       "      <td>{1EAE3DF6-F7A9-9EB1-E063-4704A8C09D02}</td>\n",
       "      <td>240000</td>\n",
       "      <td>2390</td>\n",
       "      <td>921647</td>\n",
       "      <td>2</td>\n",
       "      <td>0</td>\n",
       "      <td>1</td>\n",
       "    </tr>\n",
       "    <tr>\n",
       "      <th>5710655</th>\n",
       "      <td>{1EAE3DF6-F7AA-9EB1-E063-4704A8C09D02}</td>\n",
       "      <td>246000</td>\n",
       "      <td>2268</td>\n",
       "      <td>1150349</td>\n",
       "      <td>0</td>\n",
       "      <td>0</td>\n",
       "      <td>0</td>\n",
       "    </tr>\n",
       "    <tr>\n",
       "      <th>5710656</th>\n",
       "      <td>{1EAE3DF6-F7AB-9EB1-E063-4704A8C09D02}</td>\n",
       "      <td>228000</td>\n",
       "      <td>2341</td>\n",
       "      <td>1152302</td>\n",
       "      <td>1</td>\n",
       "      <td>0</td>\n",
       "      <td>0</td>\n",
       "    </tr>\n",
       "  </tbody>\n",
       "</table>\n",
       "<p>5710657 rows × 7 columns</p>\n",
       "</div>"
      ],
      "text/plain": [
       "                                 transaction_id   price  date_of_transfer_id  \\\n",
       "0        {726BF13A-993E-0A46-E053-6C04A8C01D0D}   75000                  170   \n",
       "1        {726BF13A-993F-0A46-E053-6C04A8C01D0D}  115000                  193   \n",
       "2        {726BF13A-9940-0A46-E053-6C04A8C01D0D}   24000                   99   \n",
       "3        {726BF13A-9941-0A46-E053-6C04A8C01D0D}   56000                  172   \n",
       "4        {726BF13A-9942-0A46-E053-6C04A8C01D0D}  220000                  144   \n",
       "...                                         ...     ...                  ...   \n",
       "5710652  {1EAE3DF6-F7A7-9EB1-E063-4704A8C09D02}  505000                 2300   \n",
       "5710653  {1EAE3DF6-F7A8-9EB1-E063-4704A8C09D02}  260000                 2271   \n",
       "5710654  {1EAE3DF6-F7A9-9EB1-E063-4704A8C09D02}  240000                 2390   \n",
       "5710655  {1EAE3DF6-F7AA-9EB1-E063-4704A8C09D02}  246000                 2268   \n",
       "5710656  {1EAE3DF6-F7AB-9EB1-E063-4704A8C09D02}  228000                 2341   \n",
       "\n",
       "         location_id  property_type_id  old_or_new_id  duration_id  \n",
       "0                  0                 0              0            0  \n",
       "1                  1                 1              0            0  \n",
       "2                  2                 2              0            1  \n",
       "3                  3                 0              0            0  \n",
       "4                  4                 3              0            0  \n",
       "...              ...               ...            ...          ...  \n",
       "5710652      1332756                 3              0            0  \n",
       "5710653       101607                 3              0            0  \n",
       "5710654       921647                 2              0            1  \n",
       "5710655      1150349                 0              0            0  \n",
       "5710656      1152302                 1              0            0  \n",
       "\n",
       "[5710657 rows x 7 columns]"
      ]
     },
     "execution_count": 290,
     "metadata": {},
     "output_type": "execute_result"
    }
   ],
   "source": [
    "# Inspect FACT table\n",
    "FACT_price_paid"
   ]
  },
  {
   "cell_type": "code",
   "execution_count": 291,
   "metadata": {},
   "outputs": [
    {
     "data": {
      "text/plain": [
       "transaction_id         object\n",
       "price                   int64\n",
       "date_of_transfer_id     int64\n",
       "location_id             int64\n",
       "property_type_id        int64\n",
       "old_or_new_id           int64\n",
       "duration_id             int64\n",
       "dtype: object"
      ]
     },
     "execution_count": 291,
     "metadata": {},
     "output_type": "execute_result"
    }
   ],
   "source": [
    "# Inspect FACT table datatypes\n",
    "FACT_price_paid.dtypes"
   ]
  },
  {
   "cell_type": "markdown",
   "metadata": {},
   "source": [
    "### DIM_date"
   ]
  },
  {
   "cell_type": "code",
   "execution_count": 292,
   "metadata": {},
   "outputs": [
    {
     "data": {
      "text/html": [
       "<div>\n",
       "<style scoped>\n",
       "    .dataframe tbody tr th:only-of-type {\n",
       "        vertical-align: middle;\n",
       "    }\n",
       "\n",
       "    .dataframe tbody tr th {\n",
       "        vertical-align: top;\n",
       "    }\n",
       "\n",
       "    .dataframe thead th {\n",
       "        text-align: right;\n",
       "    }\n",
       "</style>\n",
       "<table border=\"1\" class=\"dataframe\">\n",
       "  <thead>\n",
       "    <tr style=\"text-align: right;\">\n",
       "      <th></th>\n",
       "      <th>date_of_transfer_id</th>\n",
       "      <th>date_of_transfer</th>\n",
       "      <th>year</th>\n",
       "      <th>month</th>\n",
       "      <th>quarter</th>\n",
       "    </tr>\n",
       "  </thead>\n",
       "  <tbody>\n",
       "    <tr>\n",
       "      <th>0</th>\n",
       "      <td>0</td>\n",
       "      <td>2018-01-01</td>\n",
       "      <td>2018</td>\n",
       "      <td>January</td>\n",
       "      <td>Q1</td>\n",
       "    </tr>\n",
       "    <tr>\n",
       "      <th>1</th>\n",
       "      <td>1</td>\n",
       "      <td>2018-01-02</td>\n",
       "      <td>2018</td>\n",
       "      <td>January</td>\n",
       "      <td>Q1</td>\n",
       "    </tr>\n",
       "    <tr>\n",
       "      <th>2</th>\n",
       "      <td>2</td>\n",
       "      <td>2018-01-03</td>\n",
       "      <td>2018</td>\n",
       "      <td>January</td>\n",
       "      <td>Q1</td>\n",
       "    </tr>\n",
       "    <tr>\n",
       "      <th>3</th>\n",
       "      <td>3</td>\n",
       "      <td>2018-01-04</td>\n",
       "      <td>2018</td>\n",
       "      <td>January</td>\n",
       "      <td>Q1</td>\n",
       "    </tr>\n",
       "    <tr>\n",
       "      <th>4</th>\n",
       "      <td>4</td>\n",
       "      <td>2018-01-05</td>\n",
       "      <td>2018</td>\n",
       "      <td>January</td>\n",
       "      <td>Q1</td>\n",
       "    </tr>\n",
       "    <tr>\n",
       "      <th>...</th>\n",
       "      <td>...</td>\n",
       "      <td>...</td>\n",
       "      <td>...</td>\n",
       "      <td>...</td>\n",
       "      <td>...</td>\n",
       "    </tr>\n",
       "    <tr>\n",
       "      <th>2552</th>\n",
       "      <td>2552</td>\n",
       "      <td>2024-12-27</td>\n",
       "      <td>2024</td>\n",
       "      <td>December</td>\n",
       "      <td>Q4</td>\n",
       "    </tr>\n",
       "    <tr>\n",
       "      <th>2553</th>\n",
       "      <td>2553</td>\n",
       "      <td>2024-12-28</td>\n",
       "      <td>2024</td>\n",
       "      <td>December</td>\n",
       "      <td>Q4</td>\n",
       "    </tr>\n",
       "    <tr>\n",
       "      <th>2554</th>\n",
       "      <td>2554</td>\n",
       "      <td>2024-12-29</td>\n",
       "      <td>2024</td>\n",
       "      <td>December</td>\n",
       "      <td>Q4</td>\n",
       "    </tr>\n",
       "    <tr>\n",
       "      <th>2555</th>\n",
       "      <td>2555</td>\n",
       "      <td>2024-12-30</td>\n",
       "      <td>2024</td>\n",
       "      <td>December</td>\n",
       "      <td>Q4</td>\n",
       "    </tr>\n",
       "    <tr>\n",
       "      <th>2556</th>\n",
       "      <td>2556</td>\n",
       "      <td>2024-12-31</td>\n",
       "      <td>2024</td>\n",
       "      <td>December</td>\n",
       "      <td>Q4</td>\n",
       "    </tr>\n",
       "  </tbody>\n",
       "</table>\n",
       "<p>2557 rows × 5 columns</p>\n",
       "</div>"
      ],
      "text/plain": [
       "      date_of_transfer_id date_of_transfer  year     month quarter\n",
       "0                       0       2018-01-01  2018   January      Q1\n",
       "1                       1       2018-01-02  2018   January      Q1\n",
       "2                       2       2018-01-03  2018   January      Q1\n",
       "3                       3       2018-01-04  2018   January      Q1\n",
       "4                       4       2018-01-05  2018   January      Q1\n",
       "...                   ...              ...   ...       ...     ...\n",
       "2552                 2552       2024-12-27  2024  December      Q4\n",
       "2553                 2553       2024-12-28  2024  December      Q4\n",
       "2554                 2554       2024-12-29  2024  December      Q4\n",
       "2555                 2555       2024-12-30  2024  December      Q4\n",
       "2556                 2556       2024-12-31  2024  December      Q4\n",
       "\n",
       "[2557 rows x 5 columns]"
      ]
     },
     "execution_count": 292,
     "metadata": {},
     "output_type": "execute_result"
    }
   ],
   "source": [
    "# Inspect DIM table\n",
    "DIM_date"
   ]
  },
  {
   "cell_type": "code",
   "execution_count": 293,
   "metadata": {},
   "outputs": [
    {
     "data": {
      "text/plain": [
       "date_of_transfer_id             int64\n",
       "date_of_transfer       datetime64[ns]\n",
       "year                            int32\n",
       "month                          object\n",
       "quarter                        object\n",
       "dtype: object"
      ]
     },
     "execution_count": 293,
     "metadata": {},
     "output_type": "execute_result"
    }
   ],
   "source": [
    "# Inspect DIM table datatypes\n",
    "DIM_date.dtypes"
   ]
  },
  {
   "cell_type": "markdown",
   "metadata": {},
   "source": [
    "### DIM_location"
   ]
  },
  {
   "cell_type": "code",
   "execution_count": 294,
   "metadata": {},
   "outputs": [
    {
     "data": {
      "text/html": [
       "<div>\n",
       "<style scoped>\n",
       "    .dataframe tbody tr th:only-of-type {\n",
       "        vertical-align: middle;\n",
       "    }\n",
       "\n",
       "    .dataframe tbody tr th {\n",
       "        vertical-align: top;\n",
       "    }\n",
       "\n",
       "    .dataframe thead th {\n",
       "        text-align: right;\n",
       "    }\n",
       "</style>\n",
       "<table border=\"1\" class=\"dataframe\">\n",
       "  <thead>\n",
       "    <tr style=\"text-align: right;\">\n",
       "      <th></th>\n",
       "      <th>location_id</th>\n",
       "      <th>postcode</th>\n",
       "      <th>paon</th>\n",
       "      <th>saon</th>\n",
       "      <th>street</th>\n",
       "      <th>locality</th>\n",
       "      <th>town_city</th>\n",
       "      <th>district</th>\n",
       "      <th>county</th>\n",
       "    </tr>\n",
       "  </thead>\n",
       "  <tbody>\n",
       "    <tr>\n",
       "      <th>0</th>\n",
       "      <td>0</td>\n",
       "      <td>DL13 4BA</td>\n",
       "      <td>21</td>\n",
       "      <td></td>\n",
       "      <td>HIGHFIELDS</td>\n",
       "      <td>TOW LAW</td>\n",
       "      <td>BISHOP AUCKLAND</td>\n",
       "      <td>COUNTY DURHAM</td>\n",
       "      <td>COUNTY DURHAM</td>\n",
       "    </tr>\n",
       "    <tr>\n",
       "      <th>1</th>\n",
       "      <td>1</td>\n",
       "      <td>DL17 9LB</td>\n",
       "      <td>4</td>\n",
       "      <td></td>\n",
       "      <td>THE LANE</td>\n",
       "      <td>WEST CORNFORTH</td>\n",
       "      <td>FERRYHILL</td>\n",
       "      <td>COUNTY DURHAM</td>\n",
       "      <td>COUNTY DURHAM</td>\n",
       "    </tr>\n",
       "    <tr>\n",
       "      <th>2</th>\n",
       "      <td>2</td>\n",
       "      <td>SR7 9AG</td>\n",
       "      <td>20B</td>\n",
       "      <td></td>\n",
       "      <td>WOODS TERRACE</td>\n",
       "      <td>MURTON</td>\n",
       "      <td>SEAHAM</td>\n",
       "      <td>COUNTY DURHAM</td>\n",
       "      <td>COUNTY DURHAM</td>\n",
       "    </tr>\n",
       "    <tr>\n",
       "      <th>3</th>\n",
       "      <td>3</td>\n",
       "      <td>DL5 5PS</td>\n",
       "      <td>6</td>\n",
       "      <td></td>\n",
       "      <td>HEILD CLOSE</td>\n",
       "      <td></td>\n",
       "      <td>NEWTON AYCLIFFE</td>\n",
       "      <td>COUNTY DURHAM</td>\n",
       "      <td>COUNTY DURHAM</td>\n",
       "    </tr>\n",
       "    <tr>\n",
       "      <th>4</th>\n",
       "      <td>4</td>\n",
       "      <td>DL16 7HE</td>\n",
       "      <td>25</td>\n",
       "      <td></td>\n",
       "      <td>BECKWITH CLOSE</td>\n",
       "      <td>KIRK MERRINGTON</td>\n",
       "      <td>SPENNYMOOR</td>\n",
       "      <td>COUNTY DURHAM</td>\n",
       "      <td>COUNTY DURHAM</td>\n",
       "    </tr>\n",
       "    <tr>\n",
       "      <th>...</th>\n",
       "      <td>...</td>\n",
       "      <td>...</td>\n",
       "      <td>...</td>\n",
       "      <td>...</td>\n",
       "      <td>...</td>\n",
       "      <td>...</td>\n",
       "      <td>...</td>\n",
       "      <td>...</td>\n",
       "      <td>...</td>\n",
       "    </tr>\n",
       "    <tr>\n",
       "      <th>5185913</th>\n",
       "      <td>5710644</td>\n",
       "      <td>SY13 1XE</td>\n",
       "      <td>7</td>\n",
       "      <td></td>\n",
       "      <td>THE BEECHES</td>\n",
       "      <td></td>\n",
       "      <td>WHITCHURCH</td>\n",
       "      <td>SHROPSHIRE</td>\n",
       "      <td>SHROPSHIRE</td>\n",
       "    </tr>\n",
       "    <tr>\n",
       "      <th>5185914</th>\n",
       "      <td>5710645</td>\n",
       "      <td>WV16 4BT</td>\n",
       "      <td>37</td>\n",
       "      <td></td>\n",
       "      <td>KINGS LOADE</td>\n",
       "      <td></td>\n",
       "      <td>BRIDGNORTH</td>\n",
       "      <td>SHROPSHIRE</td>\n",
       "      <td>SHROPSHIRE</td>\n",
       "    </tr>\n",
       "    <tr>\n",
       "      <th>5185915</th>\n",
       "      <td>5710646</td>\n",
       "      <td>TF2 7DS</td>\n",
       "      <td>157</td>\n",
       "      <td></td>\n",
       "      <td>TRENCH ROAD</td>\n",
       "      <td>TRENCH</td>\n",
       "      <td>TELFORD</td>\n",
       "      <td>WREKIN</td>\n",
       "      <td>WREKIN</td>\n",
       "    </tr>\n",
       "    <tr>\n",
       "      <th>5185916</th>\n",
       "      <td>5710649</td>\n",
       "      <td>SY8 1DJ</td>\n",
       "      <td>BETJEMAN LODGE</td>\n",
       "      <td>FLAT 10</td>\n",
       "      <td>CORVE STREET</td>\n",
       "      <td></td>\n",
       "      <td>LUDLOW</td>\n",
       "      <td>SHROPSHIRE</td>\n",
       "      <td>SHROPSHIRE</td>\n",
       "    </tr>\n",
       "    <tr>\n",
       "      <th>5185917</th>\n",
       "      <td>5710650</td>\n",
       "      <td>SY8 1LL</td>\n",
       "      <td>8</td>\n",
       "      <td></td>\n",
       "      <td>KENNET BANK</td>\n",
       "      <td></td>\n",
       "      <td>LUDLOW</td>\n",
       "      <td>SHROPSHIRE</td>\n",
       "      <td>SHROPSHIRE</td>\n",
       "    </tr>\n",
       "  </tbody>\n",
       "</table>\n",
       "<p>5185918 rows × 9 columns</p>\n",
       "</div>"
      ],
      "text/plain": [
       "         location_id  postcode            paon     saon          street  \\\n",
       "0                  0  DL13 4BA              21               HIGHFIELDS   \n",
       "1                  1  DL17 9LB               4                 THE LANE   \n",
       "2                  2   SR7 9AG             20B            WOODS TERRACE   \n",
       "3                  3   DL5 5PS               6              HEILD CLOSE   \n",
       "4                  4  DL16 7HE              25           BECKWITH CLOSE   \n",
       "...              ...       ...             ...      ...             ...   \n",
       "5185913      5710644  SY13 1XE               7              THE BEECHES   \n",
       "5185914      5710645  WV16 4BT              37              KINGS LOADE   \n",
       "5185915      5710646   TF2 7DS             157              TRENCH ROAD   \n",
       "5185916      5710649   SY8 1DJ  BETJEMAN LODGE  FLAT 10    CORVE STREET   \n",
       "5185917      5710650   SY8 1LL               8              KENNET BANK   \n",
       "\n",
       "                locality        town_city       district         county  \n",
       "0                TOW LAW  BISHOP AUCKLAND  COUNTY DURHAM  COUNTY DURHAM  \n",
       "1         WEST CORNFORTH        FERRYHILL  COUNTY DURHAM  COUNTY DURHAM  \n",
       "2                 MURTON           SEAHAM  COUNTY DURHAM  COUNTY DURHAM  \n",
       "3                         NEWTON AYCLIFFE  COUNTY DURHAM  COUNTY DURHAM  \n",
       "4        KIRK MERRINGTON       SPENNYMOOR  COUNTY DURHAM  COUNTY DURHAM  \n",
       "...                  ...              ...            ...            ...  \n",
       "5185913                        WHITCHURCH     SHROPSHIRE     SHROPSHIRE  \n",
       "5185914                        BRIDGNORTH     SHROPSHIRE     SHROPSHIRE  \n",
       "5185915           TRENCH          TELFORD         WREKIN         WREKIN  \n",
       "5185916                            LUDLOW     SHROPSHIRE     SHROPSHIRE  \n",
       "5185917                            LUDLOW     SHROPSHIRE     SHROPSHIRE  \n",
       "\n",
       "[5185918 rows x 9 columns]"
      ]
     },
     "execution_count": 294,
     "metadata": {},
     "output_type": "execute_result"
    }
   ],
   "source": [
    "# Inspect DIM table\n",
    "DIM_location"
   ]
  },
  {
   "cell_type": "code",
   "execution_count": 295,
   "metadata": {},
   "outputs": [
    {
     "data": {
      "text/plain": [
       "location_id     int64\n",
       "postcode       object\n",
       "paon           object\n",
       "saon           object\n",
       "street         object\n",
       "locality       object\n",
       "town_city      object\n",
       "district       object\n",
       "county         object\n",
       "dtype: object"
      ]
     },
     "execution_count": 295,
     "metadata": {},
     "output_type": "execute_result"
    }
   ],
   "source": [
    "# Inspect DIM table datatypes\n",
    "DIM_location.dtypes"
   ]
  },
  {
   "cell_type": "markdown",
   "metadata": {},
   "source": [
    "### DIM_property_type"
   ]
  },
  {
   "cell_type": "code",
   "execution_count": 296,
   "metadata": {},
   "outputs": [
    {
     "data": {
      "text/html": [
       "<div>\n",
       "<style scoped>\n",
       "    .dataframe tbody tr th:only-of-type {\n",
       "        vertical-align: middle;\n",
       "    }\n",
       "\n",
       "    .dataframe tbody tr th {\n",
       "        vertical-align: top;\n",
       "    }\n",
       "\n",
       "    .dataframe thead th {\n",
       "        text-align: right;\n",
       "    }\n",
       "</style>\n",
       "<table border=\"1\" class=\"dataframe\">\n",
       "  <thead>\n",
       "    <tr style=\"text-align: right;\">\n",
       "      <th></th>\n",
       "      <th>property_type_id</th>\n",
       "      <th>property_type</th>\n",
       "    </tr>\n",
       "  </thead>\n",
       "  <tbody>\n",
       "    <tr>\n",
       "      <th>0</th>\n",
       "      <td>0</td>\n",
       "      <td>T</td>\n",
       "    </tr>\n",
       "    <tr>\n",
       "      <th>1</th>\n",
       "      <td>1</td>\n",
       "      <td>S</td>\n",
       "    </tr>\n",
       "    <tr>\n",
       "      <th>2</th>\n",
       "      <td>2</td>\n",
       "      <td>F</td>\n",
       "    </tr>\n",
       "    <tr>\n",
       "      <th>3</th>\n",
       "      <td>3</td>\n",
       "      <td>D</td>\n",
       "    </tr>\n",
       "    <tr>\n",
       "      <th>4</th>\n",
       "      <td>4</td>\n",
       "      <td>O</td>\n",
       "    </tr>\n",
       "  </tbody>\n",
       "</table>\n",
       "</div>"
      ],
      "text/plain": [
       "   property_type_id property_type\n",
       "0                 0             T\n",
       "1                 1             S\n",
       "2                 2             F\n",
       "3                 3             D\n",
       "4                 4             O"
      ]
     },
     "execution_count": 296,
     "metadata": {},
     "output_type": "execute_result"
    }
   ],
   "source": [
    "# Inspect DIM table\n",
    "DIM_property_type"
   ]
  },
  {
   "cell_type": "code",
   "execution_count": 297,
   "metadata": {},
   "outputs": [
    {
     "data": {
      "text/plain": [
       "property_type_id     int64\n",
       "property_type       object\n",
       "dtype: object"
      ]
     },
     "execution_count": 297,
     "metadata": {},
     "output_type": "execute_result"
    }
   ],
   "source": [
    "# Inspect DIM table datatypes\n",
    "DIM_property_type.dtypes"
   ]
  },
  {
   "cell_type": "markdown",
   "metadata": {},
   "source": [
    "### DIM_old_or_new"
   ]
  },
  {
   "cell_type": "code",
   "execution_count": 298,
   "metadata": {},
   "outputs": [
    {
     "data": {
      "text/html": [
       "<div>\n",
       "<style scoped>\n",
       "    .dataframe tbody tr th:only-of-type {\n",
       "        vertical-align: middle;\n",
       "    }\n",
       "\n",
       "    .dataframe tbody tr th {\n",
       "        vertical-align: top;\n",
       "    }\n",
       "\n",
       "    .dataframe thead th {\n",
       "        text-align: right;\n",
       "    }\n",
       "</style>\n",
       "<table border=\"1\" class=\"dataframe\">\n",
       "  <thead>\n",
       "    <tr style=\"text-align: right;\">\n",
       "      <th></th>\n",
       "      <th>old_or_new_id</th>\n",
       "      <th>old_or_new</th>\n",
       "    </tr>\n",
       "  </thead>\n",
       "  <tbody>\n",
       "    <tr>\n",
       "      <th>0</th>\n",
       "      <td>0</td>\n",
       "      <td>N</td>\n",
       "    </tr>\n",
       "    <tr>\n",
       "      <th>1</th>\n",
       "      <td>1</td>\n",
       "      <td>Y</td>\n",
       "    </tr>\n",
       "  </tbody>\n",
       "</table>\n",
       "</div>"
      ],
      "text/plain": [
       "   old_or_new_id old_or_new\n",
       "0              0          N\n",
       "1              1          Y"
      ]
     },
     "execution_count": 298,
     "metadata": {},
     "output_type": "execute_result"
    }
   ],
   "source": [
    "# Inspect DIM table\n",
    "DIM_old_or_new"
   ]
  },
  {
   "cell_type": "code",
   "execution_count": 299,
   "metadata": {},
   "outputs": [
    {
     "data": {
      "text/plain": [
       "old_or_new_id     int64\n",
       "old_or_new       object\n",
       "dtype: object"
      ]
     },
     "execution_count": 299,
     "metadata": {},
     "output_type": "execute_result"
    }
   ],
   "source": [
    "# Inspect DIM table datatypes\n",
    "DIM_old_or_new.dtypes"
   ]
  },
  {
   "cell_type": "markdown",
   "metadata": {},
   "source": [
    "### DIM_duration"
   ]
  },
  {
   "cell_type": "code",
   "execution_count": 300,
   "metadata": {},
   "outputs": [
    {
     "data": {
      "text/html": [
       "<div>\n",
       "<style scoped>\n",
       "    .dataframe tbody tr th:only-of-type {\n",
       "        vertical-align: middle;\n",
       "    }\n",
       "\n",
       "    .dataframe tbody tr th {\n",
       "        vertical-align: top;\n",
       "    }\n",
       "\n",
       "    .dataframe thead th {\n",
       "        text-align: right;\n",
       "    }\n",
       "</style>\n",
       "<table border=\"1\" class=\"dataframe\">\n",
       "  <thead>\n",
       "    <tr style=\"text-align: right;\">\n",
       "      <th></th>\n",
       "      <th>duration_id</th>\n",
       "      <th>duration</th>\n",
       "    </tr>\n",
       "  </thead>\n",
       "  <tbody>\n",
       "    <tr>\n",
       "      <th>0</th>\n",
       "      <td>0</td>\n",
       "      <td>F</td>\n",
       "    </tr>\n",
       "    <tr>\n",
       "      <th>1</th>\n",
       "      <td>1</td>\n",
       "      <td>L</td>\n",
       "    </tr>\n",
       "  </tbody>\n",
       "</table>\n",
       "</div>"
      ],
      "text/plain": [
       "   duration_id duration\n",
       "0            0        F\n",
       "1            1        L"
      ]
     },
     "execution_count": 300,
     "metadata": {},
     "output_type": "execute_result"
    }
   ],
   "source": [
    "# Inspect DIM table\n",
    "DIM_duration"
   ]
  },
  {
   "cell_type": "code",
   "execution_count": 301,
   "metadata": {},
   "outputs": [
    {
     "data": {
      "text/plain": [
       "duration_id     int64\n",
       "duration       object\n",
       "dtype: object"
      ]
     },
     "execution_count": 301,
     "metadata": {},
     "output_type": "execute_result"
    }
   ],
   "source": [
    "# Inspect DIM table datatypes\n",
    "DIM_duration.dtypes"
   ]
  },
  {
   "cell_type": "markdown",
   "metadata": {},
   "source": [
    "## Final Export"
   ]
  },
  {
   "cell_type": "code",
   "execution_count": 302,
   "metadata": {},
   "outputs": [],
   "source": [
    "FACT_price_paid.to_csv(\"FACT_price_paid.csv\", index=False)  # Save FACT table\n",
    "DIM_date.to_csv(\"DIM_date.csv\", index=False)  # Save DIM table\n",
    "DIM_location.to_csv(\"DIM_location.csv\", index=False)  # Save DIM table\n",
    "DIM_property_type.to_csv(\"DIM_property_type.csv\", index=False)  # Save DIM table\n",
    "DIM_old_or_new.to_csv(\"DIM_old_or_new.csv\", index=False)  # Save DIM table\n",
    "DIM_duration.to_csv(\"DIM_duration.csv\", index=False)  # Save DIM table\n"
   ]
  }
 ],
 "metadata": {
  "kernelspec": {
   "display_name": "python_course",
   "language": "python",
   "name": "python3"
  },
  "language_info": {
   "codemirror_mode": {
    "name": "ipython",
    "version": 3
   },
   "file_extension": ".py",
   "mimetype": "text/x-python",
   "name": "python",
   "nbconvert_exporter": "python",
   "pygments_lexer": "ipython3",
   "version": "3.11.11"
  }
 },
 "nbformat": 4,
 "nbformat_minor": 2
}
